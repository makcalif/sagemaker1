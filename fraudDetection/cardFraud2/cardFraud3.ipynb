{
 "cells": [
  {
   "cell_type": "code",
   "execution_count": 1,
   "id": "ea59f54b-5faf-4043-9be4-3d6e66f409e2",
   "metadata": {
    "tags": []
   },
   "outputs": [],
   "source": [
    "# !pip install -U  aws_requests_auth imblearn"
   ]
  },
  {
   "cell_type": "code",
   "execution_count": 1,
   "id": "c9918b16-5fe5-44a8-b994-d7e8df54d470",
   "metadata": {
    "tags": []
   },
   "outputs": [],
   "source": [
    "import sys\n",
    "\n",
    "sys.path.insert(0, \"./src/\")"
   ]
  },
  {
   "cell_type": "code",
   "execution_count": 2,
   "id": "71c8ffb2-eae4-49c0-b30a-80fe830baa24",
   "metadata": {
    "tags": []
   },
   "outputs": [
    {
     "name": "stdout",
     "output_type": "stream",
     "text": [
      "sagemaker.config INFO - Not applying SDK defaults from location: /etc/xdg/sagemaker/config.yaml\n",
      "sagemaker.config INFO - Not applying SDK defaults from location: /home/ec2-user/.config/sagemaker/config.yaml\n"
     ]
    }
   ],
   "source": [
    "import boto3\n",
    "from package import config\n",
    "import uuid\n"
   ]
  },
  {
   "cell_type": "code",
   "execution_count": 3,
   "id": "a8406cdc-d999-4a47-9123-a77b668ce890",
   "metadata": {},
   "outputs": [],
   "source": [
    "# s3 = boto3.resource(\"s3\", region_name=config.AWS_REGION)\n",
    "# s3.Object(\n",
    "#     f\"{config.SOLUTIONS_S3_BUCKET}-{config.AWS_REGION}\",\n",
    "#     f\"{config.SOLUTION_NAME}/data/creditcardfraud.zip\",\n",
    "# ).download_file(\"creditcardfraud.zip\")\n"
   ]
  },
  {
   "cell_type": "code",
   "execution_count": 4,
   "id": "24ee812d-47a7-4fa8-a4d1-9e8743e996c1",
   "metadata": {
    "tags": []
   },
   "outputs": [],
   "source": [
    "from zipfile import ZipFile\n",
    "\n",
    "# with ZipFile(\"creditcardfraud.zip\", \"r\") as zf:\n",
    "#     zf.extractall()"
   ]
  },
  {
   "cell_type": "code",
   "execution_count": 22,
   "id": "ec7e553d-6e09-402f-acbc-de2d57a5c063",
   "metadata": {
    "tags": []
   },
   "outputs": [],
   "source": [
    "import numpy as np\n",
    "import pandas as pd\n",
    "\n",
    "data = pd.read_csv(\"creditcard.csv\", delimiter=\",\")"
   ]
  },
  {
   "cell_type": "code",
   "execution_count": 2,
   "id": "785657ab-aa3d-4501-957a-bf7664ca7566",
   "metadata": {
    "tags": []
   },
   "outputs": [
    {
     "data": {
      "text/html": [
       "<div>\n",
       "<style scoped>\n",
       "    .dataframe tbody tr th:only-of-type {\n",
       "        vertical-align: middle;\n",
       "    }\n",
       "\n",
       "    .dataframe tbody tr th {\n",
       "        vertical-align: top;\n",
       "    }\n",
       "\n",
       "    .dataframe thead th {\n",
       "        text-align: right;\n",
       "    }\n",
       "</style>\n",
       "<table border=\"1\" class=\"dataframe\">\n",
       "  <thead>\n",
       "    <tr style=\"text-align: right;\">\n",
       "      <th></th>\n",
       "      <th>Time</th>\n",
       "      <th>V1</th>\n",
       "      <th>V2</th>\n",
       "      <th>V3</th>\n",
       "      <th>V4</th>\n",
       "      <th>V5</th>\n",
       "      <th>V6</th>\n",
       "      <th>V7</th>\n",
       "      <th>V8</th>\n",
       "      <th>V9</th>\n",
       "      <th>...</th>\n",
       "      <th>V21</th>\n",
       "      <th>V22</th>\n",
       "      <th>V23</th>\n",
       "      <th>V24</th>\n",
       "      <th>V25</th>\n",
       "      <th>V26</th>\n",
       "      <th>V27</th>\n",
       "      <th>V28</th>\n",
       "      <th>Amount</th>\n",
       "      <th>Class</th>\n",
       "    </tr>\n",
       "  </thead>\n",
       "  <tbody>\n",
       "    <tr>\n",
       "      <th>0</th>\n",
       "      <td>0.0</td>\n",
       "      <td>-1.359807</td>\n",
       "      <td>-0.072781</td>\n",
       "      <td>2.536347</td>\n",
       "      <td>1.378155</td>\n",
       "      <td>-0.338321</td>\n",
       "      <td>0.462388</td>\n",
       "      <td>0.239599</td>\n",
       "      <td>0.098698</td>\n",
       "      <td>0.363787</td>\n",
       "      <td>...</td>\n",
       "      <td>-0.018307</td>\n",
       "      <td>0.277838</td>\n",
       "      <td>-0.110474</td>\n",
       "      <td>0.066928</td>\n",
       "      <td>0.128539</td>\n",
       "      <td>-0.189115</td>\n",
       "      <td>0.133558</td>\n",
       "      <td>-0.021053</td>\n",
       "      <td>149.62</td>\n",
       "      <td>0</td>\n",
       "    </tr>\n",
       "    <tr>\n",
       "      <th>1</th>\n",
       "      <td>0.0</td>\n",
       "      <td>1.191857</td>\n",
       "      <td>0.266151</td>\n",
       "      <td>0.166480</td>\n",
       "      <td>0.448154</td>\n",
       "      <td>0.060018</td>\n",
       "      <td>-0.082361</td>\n",
       "      <td>-0.078803</td>\n",
       "      <td>0.085102</td>\n",
       "      <td>-0.255425</td>\n",
       "      <td>...</td>\n",
       "      <td>-0.225775</td>\n",
       "      <td>-0.638672</td>\n",
       "      <td>0.101288</td>\n",
       "      <td>-0.339846</td>\n",
       "      <td>0.167170</td>\n",
       "      <td>0.125895</td>\n",
       "      <td>-0.008983</td>\n",
       "      <td>0.014724</td>\n",
       "      <td>2.69</td>\n",
       "      <td>0</td>\n",
       "    </tr>\n",
       "    <tr>\n",
       "      <th>2</th>\n",
       "      <td>1.0</td>\n",
       "      <td>-1.358354</td>\n",
       "      <td>-1.340163</td>\n",
       "      <td>1.773209</td>\n",
       "      <td>0.379780</td>\n",
       "      <td>-0.503198</td>\n",
       "      <td>1.800499</td>\n",
       "      <td>0.791461</td>\n",
       "      <td>0.247676</td>\n",
       "      <td>-1.514654</td>\n",
       "      <td>...</td>\n",
       "      <td>0.247998</td>\n",
       "      <td>0.771679</td>\n",
       "      <td>0.909412</td>\n",
       "      <td>-0.689281</td>\n",
       "      <td>-0.327642</td>\n",
       "      <td>-0.139097</td>\n",
       "      <td>-0.055353</td>\n",
       "      <td>-0.059752</td>\n",
       "      <td>378.66</td>\n",
       "      <td>0</td>\n",
       "    </tr>\n",
       "    <tr>\n",
       "      <th>3</th>\n",
       "      <td>1.0</td>\n",
       "      <td>-0.966272</td>\n",
       "      <td>-0.185226</td>\n",
       "      <td>1.792993</td>\n",
       "      <td>-0.863291</td>\n",
       "      <td>-0.010309</td>\n",
       "      <td>1.247203</td>\n",
       "      <td>0.237609</td>\n",
       "      <td>0.377436</td>\n",
       "      <td>-1.387024</td>\n",
       "      <td>...</td>\n",
       "      <td>-0.108300</td>\n",
       "      <td>0.005274</td>\n",
       "      <td>-0.190321</td>\n",
       "      <td>-1.175575</td>\n",
       "      <td>0.647376</td>\n",
       "      <td>-0.221929</td>\n",
       "      <td>0.062723</td>\n",
       "      <td>0.061458</td>\n",
       "      <td>123.50</td>\n",
       "      <td>0</td>\n",
       "    </tr>\n",
       "    <tr>\n",
       "      <th>4</th>\n",
       "      <td>2.0</td>\n",
       "      <td>-1.158233</td>\n",
       "      <td>0.877737</td>\n",
       "      <td>1.548718</td>\n",
       "      <td>0.403034</td>\n",
       "      <td>-0.407193</td>\n",
       "      <td>0.095921</td>\n",
       "      <td>0.592941</td>\n",
       "      <td>-0.270533</td>\n",
       "      <td>0.817739</td>\n",
       "      <td>...</td>\n",
       "      <td>-0.009431</td>\n",
       "      <td>0.798278</td>\n",
       "      <td>-0.137458</td>\n",
       "      <td>0.141267</td>\n",
       "      <td>-0.206010</td>\n",
       "      <td>0.502292</td>\n",
       "      <td>0.219422</td>\n",
       "      <td>0.215153</td>\n",
       "      <td>69.99</td>\n",
       "      <td>0</td>\n",
       "    </tr>\n",
       "    <tr>\n",
       "      <th>...</th>\n",
       "      <td>...</td>\n",
       "      <td>...</td>\n",
       "      <td>...</td>\n",
       "      <td>...</td>\n",
       "      <td>...</td>\n",
       "      <td>...</td>\n",
       "      <td>...</td>\n",
       "      <td>...</td>\n",
       "      <td>...</td>\n",
       "      <td>...</td>\n",
       "      <td>...</td>\n",
       "      <td>...</td>\n",
       "      <td>...</td>\n",
       "      <td>...</td>\n",
       "      <td>...</td>\n",
       "      <td>...</td>\n",
       "      <td>...</td>\n",
       "      <td>...</td>\n",
       "      <td>...</td>\n",
       "      <td>...</td>\n",
       "      <td>...</td>\n",
       "    </tr>\n",
       "    <tr>\n",
       "      <th>284802</th>\n",
       "      <td>172786.0</td>\n",
       "      <td>-11.881118</td>\n",
       "      <td>10.071785</td>\n",
       "      <td>-9.834783</td>\n",
       "      <td>-2.066656</td>\n",
       "      <td>-5.364473</td>\n",
       "      <td>-2.606837</td>\n",
       "      <td>-4.918215</td>\n",
       "      <td>7.305334</td>\n",
       "      <td>1.914428</td>\n",
       "      <td>...</td>\n",
       "      <td>0.213454</td>\n",
       "      <td>0.111864</td>\n",
       "      <td>1.014480</td>\n",
       "      <td>-0.509348</td>\n",
       "      <td>1.436807</td>\n",
       "      <td>0.250034</td>\n",
       "      <td>0.943651</td>\n",
       "      <td>0.823731</td>\n",
       "      <td>0.77</td>\n",
       "      <td>0</td>\n",
       "    </tr>\n",
       "    <tr>\n",
       "      <th>284803</th>\n",
       "      <td>172787.0</td>\n",
       "      <td>-0.732789</td>\n",
       "      <td>-0.055080</td>\n",
       "      <td>2.035030</td>\n",
       "      <td>-0.738589</td>\n",
       "      <td>0.868229</td>\n",
       "      <td>1.058415</td>\n",
       "      <td>0.024330</td>\n",
       "      <td>0.294869</td>\n",
       "      <td>0.584800</td>\n",
       "      <td>...</td>\n",
       "      <td>0.214205</td>\n",
       "      <td>0.924384</td>\n",
       "      <td>0.012463</td>\n",
       "      <td>-1.016226</td>\n",
       "      <td>-0.606624</td>\n",
       "      <td>-0.395255</td>\n",
       "      <td>0.068472</td>\n",
       "      <td>-0.053527</td>\n",
       "      <td>24.79</td>\n",
       "      <td>0</td>\n",
       "    </tr>\n",
       "    <tr>\n",
       "      <th>284804</th>\n",
       "      <td>172788.0</td>\n",
       "      <td>1.919565</td>\n",
       "      <td>-0.301254</td>\n",
       "      <td>-3.249640</td>\n",
       "      <td>-0.557828</td>\n",
       "      <td>2.630515</td>\n",
       "      <td>3.031260</td>\n",
       "      <td>-0.296827</td>\n",
       "      <td>0.708417</td>\n",
       "      <td>0.432454</td>\n",
       "      <td>...</td>\n",
       "      <td>0.232045</td>\n",
       "      <td>0.578229</td>\n",
       "      <td>-0.037501</td>\n",
       "      <td>0.640134</td>\n",
       "      <td>0.265745</td>\n",
       "      <td>-0.087371</td>\n",
       "      <td>0.004455</td>\n",
       "      <td>-0.026561</td>\n",
       "      <td>67.88</td>\n",
       "      <td>0</td>\n",
       "    </tr>\n",
       "    <tr>\n",
       "      <th>284805</th>\n",
       "      <td>172788.0</td>\n",
       "      <td>-0.240440</td>\n",
       "      <td>0.530483</td>\n",
       "      <td>0.702510</td>\n",
       "      <td>0.689799</td>\n",
       "      <td>-0.377961</td>\n",
       "      <td>0.623708</td>\n",
       "      <td>-0.686180</td>\n",
       "      <td>0.679145</td>\n",
       "      <td>0.392087</td>\n",
       "      <td>...</td>\n",
       "      <td>0.265245</td>\n",
       "      <td>0.800049</td>\n",
       "      <td>-0.163298</td>\n",
       "      <td>0.123205</td>\n",
       "      <td>-0.569159</td>\n",
       "      <td>0.546668</td>\n",
       "      <td>0.108821</td>\n",
       "      <td>0.104533</td>\n",
       "      <td>10.00</td>\n",
       "      <td>0</td>\n",
       "    </tr>\n",
       "    <tr>\n",
       "      <th>284806</th>\n",
       "      <td>172792.0</td>\n",
       "      <td>-0.533413</td>\n",
       "      <td>-0.189733</td>\n",
       "      <td>0.703337</td>\n",
       "      <td>-0.506271</td>\n",
       "      <td>-0.012546</td>\n",
       "      <td>-0.649617</td>\n",
       "      <td>1.577006</td>\n",
       "      <td>-0.414650</td>\n",
       "      <td>0.486180</td>\n",
       "      <td>...</td>\n",
       "      <td>0.261057</td>\n",
       "      <td>0.643078</td>\n",
       "      <td>0.376777</td>\n",
       "      <td>0.008797</td>\n",
       "      <td>-0.473649</td>\n",
       "      <td>-0.818267</td>\n",
       "      <td>-0.002415</td>\n",
       "      <td>0.013649</td>\n",
       "      <td>217.00</td>\n",
       "      <td>0</td>\n",
       "    </tr>\n",
       "  </tbody>\n",
       "</table>\n",
       "<p>284807 rows × 31 columns</p>\n",
       "</div>"
      ],
      "text/plain": [
       "            Time         V1         V2        V3        V4        V5  \\\n",
       "0            0.0  -1.359807  -0.072781  2.536347  1.378155 -0.338321   \n",
       "1            0.0   1.191857   0.266151  0.166480  0.448154  0.060018   \n",
       "2            1.0  -1.358354  -1.340163  1.773209  0.379780 -0.503198   \n",
       "3            1.0  -0.966272  -0.185226  1.792993 -0.863291 -0.010309   \n",
       "4            2.0  -1.158233   0.877737  1.548718  0.403034 -0.407193   \n",
       "...          ...        ...        ...       ...       ...       ...   \n",
       "284802  172786.0 -11.881118  10.071785 -9.834783 -2.066656 -5.364473   \n",
       "284803  172787.0  -0.732789  -0.055080  2.035030 -0.738589  0.868229   \n",
       "284804  172788.0   1.919565  -0.301254 -3.249640 -0.557828  2.630515   \n",
       "284805  172788.0  -0.240440   0.530483  0.702510  0.689799 -0.377961   \n",
       "284806  172792.0  -0.533413  -0.189733  0.703337 -0.506271 -0.012546   \n",
       "\n",
       "              V6        V7        V8        V9  ...       V21       V22  \\\n",
       "0       0.462388  0.239599  0.098698  0.363787  ... -0.018307  0.277838   \n",
       "1      -0.082361 -0.078803  0.085102 -0.255425  ... -0.225775 -0.638672   \n",
       "2       1.800499  0.791461  0.247676 -1.514654  ...  0.247998  0.771679   \n",
       "3       1.247203  0.237609  0.377436 -1.387024  ... -0.108300  0.005274   \n",
       "4       0.095921  0.592941 -0.270533  0.817739  ... -0.009431  0.798278   \n",
       "...          ...       ...       ...       ...  ...       ...       ...   \n",
       "284802 -2.606837 -4.918215  7.305334  1.914428  ...  0.213454  0.111864   \n",
       "284803  1.058415  0.024330  0.294869  0.584800  ...  0.214205  0.924384   \n",
       "284804  3.031260 -0.296827  0.708417  0.432454  ...  0.232045  0.578229   \n",
       "284805  0.623708 -0.686180  0.679145  0.392087  ...  0.265245  0.800049   \n",
       "284806 -0.649617  1.577006 -0.414650  0.486180  ...  0.261057  0.643078   \n",
       "\n",
       "             V23       V24       V25       V26       V27       V28  Amount  \\\n",
       "0      -0.110474  0.066928  0.128539 -0.189115  0.133558 -0.021053  149.62   \n",
       "1       0.101288 -0.339846  0.167170  0.125895 -0.008983  0.014724    2.69   \n",
       "2       0.909412 -0.689281 -0.327642 -0.139097 -0.055353 -0.059752  378.66   \n",
       "3      -0.190321 -1.175575  0.647376 -0.221929  0.062723  0.061458  123.50   \n",
       "4      -0.137458  0.141267 -0.206010  0.502292  0.219422  0.215153   69.99   \n",
       "...          ...       ...       ...       ...       ...       ...     ...   \n",
       "284802  1.014480 -0.509348  1.436807  0.250034  0.943651  0.823731    0.77   \n",
       "284803  0.012463 -1.016226 -0.606624 -0.395255  0.068472 -0.053527   24.79   \n",
       "284804 -0.037501  0.640134  0.265745 -0.087371  0.004455 -0.026561   67.88   \n",
       "284805 -0.163298  0.123205 -0.569159  0.546668  0.108821  0.104533   10.00   \n",
       "284806  0.376777  0.008797 -0.473649 -0.818267 -0.002415  0.013649  217.00   \n",
       "\n",
       "        Class  \n",
       "0           0  \n",
       "1           0  \n",
       "2           0  \n",
       "3           0  \n",
       "4           0  \n",
       "...       ...  \n",
       "284802      0  \n",
       "284803      0  \n",
       "284804      0  \n",
       "284805      0  \n",
       "284806      0  \n",
       "\n",
       "[284807 rows x 31 columns]"
      ]
     },
     "execution_count": 2,
     "metadata": {},
     "output_type": "execute_result"
    }
   ],
   "source": [
    "data"
   ]
  },
  {
   "cell_type": "code",
   "execution_count": 7,
   "id": "82a7a418-64c0-4255-ac0c-ffc0a7645756",
   "metadata": {
    "tags": []
   },
   "outputs": [
    {
     "data": {
      "text/plain": [
       "Index(['Time', 'V1', 'V2', 'V3', 'V4', 'V5', 'V6', 'V7', 'V8', 'V9', 'V10',\n",
       "       'V11', 'V12', 'V13', 'V14', 'V15', 'V16', 'V17', 'V18', 'V19', 'V20',\n",
       "       'V21', 'V22', 'V23', 'V24', 'V25', 'V26', 'V27', 'V28', 'Amount',\n",
       "       'Class'],\n",
       "      dtype='object')"
      ]
     },
     "execution_count": 7,
     "metadata": {},
     "output_type": "execute_result"
    }
   ],
   "source": [
    "data.columns"
   ]
  },
  {
   "cell_type": "code",
   "execution_count": 8,
   "id": "cfa4cbba-7cbe-4c74-b432-4efd51416f14",
   "metadata": {
    "tags": []
   },
   "outputs": [
    {
     "data": {
      "text/plain": [
       "<Axes: >"
      ]
     },
     "execution_count": 8,
     "metadata": {},
     "output_type": "execute_result"
    },
    {
     "data": {
      "image/png": "[encoded data removed]",
      "text/plain": [
       "<Figure size 640x480 with 1 Axes>"
      ]
     },
     "metadata": {},
     "output_type": "display_data"
    }
   ],
   "source": [
    "data['Amount'].plot()"
   ]
  },
  {
   "cell_type": "code",
   "execution_count": 9,
   "id": "34da25bb-c54d-41ce-ba9a-fdc5dec03a16",
   "metadata": {
    "tags": []
   },
   "outputs": [
    {
     "data": {
      "text/plain": [
       "<Axes: >"
      ]
     },
     "execution_count": 9,
     "metadata": {},
     "output_type": "execute_result"
    },
    {
     "data": {
      "image/png": "[encoded data removed]",
      "text/plain": [
       "<Figure size 640x480 with 1 Axes>"
      ]
     },
     "metadata": {},
     "output_type": "display_data"
    }
   ],
   "source": [
    "data['Amount'].hist()"
   ]
  },
  {
   "cell_type": "code",
   "execution_count": 10,
   "id": "d7e3f7ae-ba2c-4e20-8679-4a4161a8f71e",
   "metadata": {
    "tags": []
   },
   "outputs": [
    {
     "name": "stdout",
     "output_type": "stream",
     "text": [
      "<class 'pandas.core.frame.DataFrame'>\n",
      "RangeIndex: 284807 entries, 0 to 284806\n",
      "Data columns (total 31 columns):\n",
      " #   Column  Non-Null Count   Dtype  \n",
      "---  ------  --------------   -----  \n",
      " 0   Time    284807 non-null  float64\n",
      " 1   V1      284807 non-null  float64\n",
      " 2   V2      284807 non-null  float64\n",
      " 3   V3      284807 non-null  float64\n",
      " 4   V4      284807 non-null  float64\n",
      " 5   V5      284807 non-null  float64\n",
      " 6   V6      284807 non-null  float64\n",
      " 7   V7      284807 non-null  float64\n",
      " 8   V8      284807 non-null  float64\n",
      " 9   V9      284807 non-null  float64\n",
      " 10  V10     284807 non-null  float64\n",
      " 11  V11     284807 non-null  float64\n",
      " 12  V12     284807 non-null  float64\n",
      " 13  V13     284807 non-null  float64\n",
      " 14  V14     284807 non-null  float64\n",
      " 15  V15     284807 non-null  float64\n",
      " 16  V16     284807 non-null  float64\n",
      " 17  V17     284807 non-null  float64\n",
      " 18  V18     284807 non-null  float64\n",
      " 19  V19     284807 non-null  float64\n",
      " 20  V20     284807 non-null  float64\n",
      " 21  V21     284807 non-null  float64\n",
      " 22  V22     284807 non-null  float64\n",
      " 23  V23     284807 non-null  float64\n",
      " 24  V24     284807 non-null  float64\n",
      " 25  V25     284807 non-null  float64\n",
      " 26  V26     284807 non-null  float64\n",
      " 27  V27     284807 non-null  float64\n",
      " 28  V28     284807 non-null  float64\n",
      " 29  Amount  284807 non-null  float64\n",
      " 30  Class   284807 non-null  int64  \n",
      "dtypes: float64(30), int64(1)\n",
      "memory usage: 67.4 MB\n"
     ]
    }
   ],
   "source": [
    "data.info()"
   ]
  },
  {
   "cell_type": "code",
   "execution_count": 11,
   "id": "ab18c8f9-8e02-48c3-8fb1-05214cfdcc41",
   "metadata": {
    "tags": []
   },
   "outputs": [
    {
     "data": {
      "text/plain": [
       "<Axes: >"
      ]
     },
     "execution_count": 11,
     "metadata": {},
     "output_type": "execute_result"
    },
    {
     "data": {
      "image/png": "[encoded data removed]",
      "text/plain": [
       "<Figure size 640x480 with 1 Axes>"
      ]
     },
     "metadata": {},
     "output_type": "display_data"
    }
   ],
   "source": [
    "data['Time'].plot()"
   ]
  },
  {
   "cell_type": "code",
   "execution_count": 4,
   "id": "2b82c4d4-e6e8-4870-a222-06f779ae5fcf",
   "metadata": {
    "tags": []
   },
   "outputs": [
    {
     "data": {
      "text/plain": [
       "count    284807.000000\n",
       "mean          0.001727\n",
       "std           0.041527\n",
       "min           0.000000\n",
       "25%           0.000000\n",
       "50%           0.000000\n",
       "75%           0.000000\n",
       "max           1.000000\n",
       "Name: Class, dtype: float64"
      ]
     },
     "execution_count": 4,
     "metadata": {},
     "output_type": "execute_result"
    }
   ],
   "source": [
    "data['Class'].describe()"
   ]
  },
  {
   "cell_type": "code",
   "execution_count": 6,
   "id": "e3bfc1dc-cb7c-40d5-aee0-c1888df2f647",
   "metadata": {
    "tags": []
   },
   "outputs": [
    {
     "data": {
      "text/plain": [
       "array([0, 1])"
      ]
     },
     "execution_count": 6,
     "metadata": {},
     "output_type": "execute_result"
    }
   ],
   "source": [
    "data['Class'].unique()"
   ]
  },
  {
   "cell_type": "code",
   "execution_count": 10,
   "id": "a1425e98-c46a-4bef-a4eb-0eb680f565f2",
   "metadata": {
    "tags": []
   },
   "outputs": [
    {
     "data": {
      "text/plain": [
       "<Axes: >"
      ]
     },
     "execution_count": 10,
     "metadata": {},
     "output_type": "execute_result"
    },
    {
     "data": {
      "image/png": "[encoded data removed]",
      "text/plain": [
       "<Figure size 640x480 with 1 Axes>"
      ]
     },
     "metadata": {},
     "output_type": "display_data"
    }
   ],
   "source": [
    "data['Class'].hist(log=True)"
   ]
  },
  {
   "cell_type": "code",
   "execution_count": 11,
   "id": "18f23049-6abc-4316-be29-51458a2658f5",
   "metadata": {
    "tags": []
   },
   "outputs": [],
   "source": [
    "import sagemaker\n",
    "import boto3\n",
    "from sagemaker import get_execution_role\n",
    "import uuid"
   ]
  },
  {
   "cell_type": "code",
   "execution_count": 13,
   "id": "df80c237-8578-4098-a1e4-e1cfa412e8fb",
   "metadata": {
    "tags": []
   },
   "outputs": [],
   "source": [
    "sm_session = sagemaker.Session()"
   ]
  },
  {
   "cell_type": "code",
   "execution_count": 16,
   "id": "7946eb62-799f-4432-a910-94d4082bc025",
   "metadata": {
    "tags": []
   },
   "outputs": [],
   "source": [
    "sm_role = get_execution_role()"
   ]
  },
  {
   "cell_type": "code",
   "execution_count": 18,
   "id": "f05ab17d-a4b2-4c2c-85a3-7ad328d8e2e9",
   "metadata": {
    "tags": []
   },
   "outputs": [],
   "source": [
    "region = boto3.Session().region_name"
   ]
  },
  {
   "cell_type": "code",
   "execution_count": 22,
   "id": "bc0ab5e9-c244-4aec-a839-b77080dc90aa",
   "metadata": {
    "tags": []
   },
   "outputs": [],
   "source": [
    "bucket = sm_session.default_bucket()"
   ]
  },
  {
   "cell_type": "code",
   "execution_count": 23,
   "id": "4b9cb0e5-3b60-42fb-9bfd-b346ed13e018",
   "metadata": {
    "tags": []
   },
   "outputs": [
    {
     "data": {
      "text/plain": [
       "'sagemaker-us-east-1-287758680514'"
      ]
     },
     "execution_count": 23,
     "metadata": {},
     "output_type": "execute_result"
    }
   ],
   "source": [
    "bucket"
   ]
  },
  {
   "cell_type": "code",
   "execution_count": 27,
   "id": "9d064444-7aa7-4553-8f61-604e3150362f",
   "metadata": {
    "tags": []
   },
   "outputs": [],
   "source": [
    "prefix = 'fraud-detect-rcf-jan-21'"
   ]
  },
  {
   "cell_type": "code",
   "execution_count": 28,
   "id": "5fbd65e3-835c-481e-8331-4e2b0099cc6f",
   "metadata": {
    "tags": []
   },
   "outputs": [],
   "source": [
    "instance_type_train = 'ml.m4.xlarge'"
   ]
  },
  {
   "cell_type": "code",
   "execution_count": 6,
   "id": "cf20a8b3-d3d7-4e22-b072-38bcfb267897",
   "metadata": {
    "tags": []
   },
   "outputs": [],
   "source": [
    "unique_hash = str(uuid.uuid4())[:5]"
   ]
  },
  {
   "cell_type": "code",
   "execution_count": 39,
   "id": "2ad6ab0a-1416-4620-ab19-69925db7a9e1",
   "metadata": {
    "tags": []
   },
   "outputs": [],
   "source": [
    "training_job_name = f\"fraud-detect-rcf-train-job--{unique_hash}\""
   ]
  },
  {
   "cell_type": "code",
   "execution_count": 40,
   "id": "ec1daf53-82cb-41a6-97b6-b426d81ad629",
   "metadata": {
    "tags": []
   },
   "outputs": [
    {
     "data": {
      "text/plain": [
       "'fraud-detect-rcf-train-job--5bb4b'"
      ]
     },
     "execution_count": 40,
     "metadata": {},
     "output_type": "execute_result"
    }
   ],
   "source": [
    "training_job_name"
   ]
  },
  {
   "cell_type": "code",
   "execution_count": 41,
   "id": "8c8e0a08-cd14-4417-bf90-d2a1b0e5ec61",
   "metadata": {
    "tags": []
   },
   "outputs": [
    {
     "name": "stdout",
     "output_type": "stream",
     "text": [
      "You can go to SageMaker -> Training -> Training jobs -> a job name started with fraud-detect-rcf-train-job--5bb4b to monitor training status and details.\n"
     ]
    }
   ],
   "source": [
    "from sagemaker import RandomCutForest\n",
    "\n",
    "print(\n",
    "    f\"You can go to SageMaker -> Training -> Training jobs -> a job name started with {training_job_name} to monitor training status and details.\"\n",
    ")\n",
    "\n",
    "# specify general training job information\n",
    "rcf = RandomCutForest(\n",
    "    role=sm_role,\n",
    "    instance_count=1,\n",
    "    instance_type=instance_type_train,\n",
    "    data_location=\"s3://{}/{}/\".format(bucket, prefix),\n",
    "    output_path=\"s3://{}/{}/output\".format(bucket, prefix),\n",
    "    base_job_name=training_job_name,\n",
    "    num_samples_per_tree=512,\n",
    "    num_trees=50,\n",
    ")"
   ]
  },
  {
   "cell_type": "code",
   "execution_count": 23,
   "id": "3e7fa988-c048-4be4-8cf3-d5ece35b4b9e",
   "metadata": {
    "tags": []
   },
   "outputs": [],
   "source": [
    "feature_cols = data.columns[:-1]"
   ]
  },
  {
   "cell_type": "code",
   "execution_count": 24,
   "id": "a7af94f4-71f6-4c0b-b354-abc734ed7f08",
   "metadata": {
    "tags": []
   },
   "outputs": [],
   "source": [
    "label_cols = data.columns[-1]"
   ]
  },
  {
   "cell_type": "code",
   "execution_count": 25,
   "id": "f73232df-6308-4870-9223-dfcd9e28bdc3",
   "metadata": {
    "tags": []
   },
   "outputs": [
    {
     "data": {
      "text/plain": [
       "'Class'"
      ]
     },
     "execution_count": 25,
     "metadata": {},
     "output_type": "execute_result"
    }
   ],
   "source": [
    "label_cols"
   ]
  },
  {
   "cell_type": "code",
   "execution_count": 26,
   "id": "6809ad81-d0ef-4899-9a8c-a8acbdd5a0f1",
   "metadata": {
    "tags": []
   },
   "outputs": [],
   "source": [
    "features = data[feature_cols].values.astype(\"float32\")"
   ]
  },
  {
   "cell_type": "code",
   "execution_count": 27,
   "id": "d1de14df-af7a-4c97-b3f5-59ee72d06092",
   "metadata": {
    "tags": []
   },
   "outputs": [
    {
     "data": {
      "text/plain": [
       "array([[ 0.0000000e+00, -1.3598071e+00, -7.2781175e-02, ...,\n",
       "         1.3355838e-01, -2.1053053e-02,  1.4962000e+02],\n",
       "       [ 0.0000000e+00,  1.1918571e+00,  2.6615071e-01, ...,\n",
       "        -8.9830989e-03,  1.4724169e-02,  2.6900001e+00],\n",
       "       [ 1.0000000e+00, -1.3583541e+00, -1.3401631e+00, ...,\n",
       "        -5.5352796e-02, -5.9751842e-02,  3.7866000e+02],\n",
       "       ...,\n",
       "       [ 1.7278800e+05,  1.9195650e+00, -3.0125386e-01, ...,\n",
       "         4.4547720e-03, -2.6560828e-02,  6.7879997e+01],\n",
       "       [ 1.7278800e+05, -2.4044006e-01,  5.3048253e-01, ...,\n",
       "         1.0882074e-01,  1.0453282e-01,  1.0000000e+01],\n",
       "       [ 1.7279200e+05, -5.3341252e-01, -1.8973334e-01, ...,\n",
       "        -2.4153087e-03,  1.3648914e-02,  2.1700000e+02]], dtype=float32)"
      ]
     },
     "execution_count": 27,
     "metadata": {},
     "output_type": "execute_result"
    }
   ],
   "source": [
    "features"
   ]
  },
  {
   "cell_type": "code",
   "execution_count": 28,
   "id": "56eae59b-6156-414e-8758-a820e3c1d70c",
   "metadata": {
    "tags": []
   },
   "outputs": [],
   "source": [
    "labels = (data[label_cols]).values.astype(\"float32\")"
   ]
  },
  {
   "cell_type": "code",
   "execution_count": 29,
   "id": "36ee7988-b0d8-40e9-b177-894ac13ad9df",
   "metadata": {
    "tags": []
   },
   "outputs": [],
   "source": [
    "from sklearn.model_selection import train_test_split\n",
    "\n",
    "X_train, X_test, y_train, y_test = train_test_split(\n",
    "    features, labels, test_size=0.1, random_state=42\n",
    ")"
   ]
  },
  {
   "cell_type": "code",
   "execution_count": 65,
   "id": "5ce18565-25c0-4b99-a524-791818393619",
   "metadata": {
    "tags": []
   },
   "outputs": [
    {
     "data": {
      "text/plain": [
       "(0.0016151118, 0.0017399718, (256326, 30), (28481, 30))"
      ]
     },
     "execution_count": 65,
     "metadata": {},
     "output_type": "execute_result"
    }
   ],
   "source": [
    "np.mean(y_test), np.mean(y_train), X_train.shape, X_test.shape"
   ]
  },
  {
   "cell_type": "code",
   "execution_count": 66,
   "id": "fd8c1bc3-237f-489b-9492-f23e586fe15a",
   "metadata": {
    "tags": []
   },
   "outputs": [
    {
     "name": "stderr",
     "output_type": "stream",
     "text": [
      "INFO:sagemaker.image_uris:Same images used for training and inference. Defaulting to image scope: inference.\n",
      "INFO:sagemaker.image_uris:Ignoring unnecessary instance type: None.\n",
      "INFO:sagemaker:Creating training-job with name: fraud-detect-rcf-train-job--5bb4b-2024-01-21-18-16-15-776\n"
     ]
    },
    {
     "name": "stdout",
     "output_type": "stream",
     "text": [
      "2024-01-21 18:16:16 Starting - Starting the training job...\n",
      "2024-01-21 18:16:32 Starting - Preparing the instances for training......\n",
      "2024-01-21 18:17:41 Downloading - Downloading input data......\n",
      "2024-01-21 18:18:20 Downloading - Downloading the training image......\n",
      "2024-01-21 18:19:30 Training - Training image download completed. Training in progress..\u001b[34mDocker entrypoint called with argument(s): train\u001b[0m\n",
      "\u001b[34mRunning default environment configuration script\u001b[0m\n",
      "\u001b[34m/opt/amazon/lib/python3.8/site-packages/mxnet/model.py:97: SyntaxWarning: \"is\" with a literal. Did you mean \"==\"?\n",
      "  if num_device is 1 and 'dist' not in kvstore:\u001b[0m\n",
      "\u001b[34m/opt/amazon/lib/python3.8/site-packages/scipy/optimize/_shgo.py:495: SyntaxWarning: \"is\" with a literal. Did you mean \"==\"?\n",
      "  if cons['type'] is 'ineq':\u001b[0m\n",
      "\u001b[34m/opt/amazon/lib/python3.8/site-packages/scipy/optimize/_shgo.py:743: SyntaxWarning: \"is not\" with a literal. Did you mean \"!=\"?\n",
      "  if len(self.X_min) is not 0:\u001b[0m\n",
      "\u001b[34m[01/21/2024 18:19:51 INFO 139995343583040] Reading default configuration from /opt/amazon/lib/python3.8/site-packages/algorithm/resources/default-conf.json: {'num_samples_per_tree': 256, 'num_trees': 100, 'force_dense': 'true', 'eval_metrics': ['accuracy', 'precision_recall_fscore'], 'epochs': 1, 'mini_batch_size': 1000, '_log_level': 'info', '_kvstore': 'dist_async', '_num_kv_servers': 'auto', '_num_gpus': 'auto', '_tuning_objective_metric': '', '_ftp_port': 8999}\u001b[0m\n",
      "\u001b[34m[01/21/2024 18:19:51 INFO 139995343583040] Merging with provided configuration from /opt/ml/input/config/hyperparameters.json: {'feature_dim': '30', 'mini_batch_size': '1000', 'num_samples_per_tree': '512', 'num_trees': '50'}\u001b[0m\n",
      "\u001b[34m[01/21/2024 18:19:51 INFO 139995343583040] Final configuration: {'num_samples_per_tree': '512', 'num_trees': '50', 'force_dense': 'true', 'eval_metrics': ['accuracy', 'precision_recall_fscore'], 'epochs': 1, 'mini_batch_size': '1000', '_log_level': 'info', '_kvstore': 'dist_async', '_num_kv_servers': 'auto', '_num_gpus': 'auto', '_tuning_objective_metric': '', '_ftp_port': 8999, 'feature_dim': '30'}\u001b[0m\n",
      "\u001b[34m[01/21/2024 18:19:51 WARNING 139995343583040] Loggers have already been setup.\u001b[0m\n",
      "\u001b[34m[01/21/2024 18:19:51 INFO 139995343583040] Launching parameter server for role scheduler\u001b[0m\n",
      "\u001b[34m[01/21/2024 18:19:51 INFO 139995343583040] {'ENVROOT': '/opt/amazon', 'PROTOCOL_BUFFERS_PYTHON_IMPLEMENTATION': 'cpp', 'HOSTNAME': 'ip-10-0-229-145.ec2.internal', 'TRAINING_JOB_NAME': 'fraud-detect-rcf-train-job--5bb4b-2024-01-21-18-16-15-776', 'NVIDIA_REQUIRE_CUDA': 'cuda>=9.0', 'TRAINING_JOB_ARN': 'arn:aws:sagemaker:us-east-1:287758680514:training-job/fraud-detect-rcf-train-job--5bb4b-2024-01-21-18-16-15-776', 'AWS_CONTAINER_CREDENTIALS_RELATIVE_URI': '/v2/credentials/proxy-65bfcdb6bf315f746c6bffe01a304da6009a2a3b94de86b0bc30ea7712356c94-customer', 'CANONICAL_ENVROOT': '/opt/amazon', 'PYTHONUNBUFFERED': 'TRUE', 'NVIDIA_VISIBLE_DEVICES': 'all', 'LD_LIBRARY_PATH': '/opt/amazon/lib/python3.8/site-packages/cv2/../../../../lib:/usr/local/nvidia/lib64:/opt/amazon/lib', 'MXNET_KVSTORE_BIGARRAY_BOUND': '400000000', 'NVIDIA_DRIVER_CAPABILITIES': 'compute,utility', 'SAGEMAKER_MANAGED_WARMPOOL_CACHE_DIRECTORY': '/opt/ml/sagemaker/warmpoolcache', 'PATH': '/opt/amazon/bin:/usr/local/nvidia/bin:/usr/local/sbin:/usr/local/bin:/usr/sbin:/usr/bin:/sbin:/bin', 'PWD': '/', 'LANG': 'en_US.utf8', 'AWS_REGION': 'us-east-1', 'SAGEMAKER_METRICS_DIRECTORY': '/opt/ml/output/metrics/sagemaker', 'CUDA_VERSION': '11.1', 'HOME': '/root', 'SHLVL': '1', 'CUDA_COMPAT_NDRIVER_SUPPORTED_VERSION': '455.32.00', 'PROTOCOL_BUFFERS_PYTHON_IMPLEMENTATION_VERSION': '2', 'OMP_NUM_THREADS': '2', 'DMLC_INTERFACE': 'eth0', 'SAGEMAKER_HTTP_PORT': '8080', 'SAGEMAKER_DATA_PATH': '/opt/ml', 'KMP_DUPLICATE_LIB_OK': 'True', 'KMP_INIT_AT_FORK': 'FALSE'}\u001b[0m\n",
      "\u001b[34m[01/21/2024 18:19:51 INFO 139995343583040] envs={'ENVROOT': '/opt/amazon', 'PROTOCOL_BUFFERS_PYTHON_IMPLEMENTATION': 'cpp', 'HOSTNAME': 'ip-10-0-229-145.ec2.internal', 'TRAINING_JOB_NAME': 'fraud-detect-rcf-train-job--5bb4b-2024-01-21-18-16-15-776', 'NVIDIA_REQUIRE_CUDA': 'cuda>=9.0', 'TRAINING_JOB_ARN': 'arn:aws:sagemaker:us-east-1:287758680514:training-job/fraud-detect-rcf-train-job--5bb4b-2024-01-21-18-16-15-776', 'AWS_CONTAINER_CREDENTIALS_RELATIVE_URI': '/v2/credentials/proxy-65bfcdb6bf315f746c6bffe01a304da6009a2a3b94de86b0bc30ea7712356c94-customer', 'CANONICAL_ENVROOT': '/opt/amazon', 'PYTHONUNBUFFERED': 'TRUE', 'NVIDIA_VISIBLE_DEVICES': 'all', 'LD_LIBRARY_PATH': '/opt/amazon/lib/python3.8/site-packages/cv2/../../../../lib:/usr/local/nvidia/lib64:/opt/amazon/lib', 'MXNET_KVSTORE_BIGARRAY_BOUND': '400000000', 'NVIDIA_DRIVER_CAPABILITIES': 'compute,utility', 'SAGEMAKER_MANAGED_WARMPOOL_CACHE_DIRECTORY': '/opt/ml/sagemaker/warmpoolcache', 'PATH': '/opt/amazon/bin:/usr/local/nvidia/bin:/usr/local/sbin:/usr/local/bin:/usr/sbin:/usr/bin:/sbin:/bin', 'PWD': '/', 'LANG': 'en_US.utf8', 'AWS_REGION': 'us-east-1', 'SAGEMAKER_METRICS_DIRECTORY': '/opt/ml/output/metrics/sagemaker', 'CUDA_VERSION': '11.1', 'HOME': '/root', 'SHLVL': '1', 'CUDA_COMPAT_NDRIVER_SUPPORTED_VERSION': '455.32.00', 'PROTOCOL_BUFFERS_PYTHON_IMPLEMENTATION_VERSION': '2', 'OMP_NUM_THREADS': '2', 'DMLC_INTERFACE': 'eth0', 'SAGEMAKER_HTTP_PORT': '8080', 'SAGEMAKER_DATA_PATH': '/opt/ml', 'KMP_DUPLICATE_LIB_OK': 'True', 'KMP_INIT_AT_FORK': 'FALSE', 'DMLC_ROLE': 'scheduler', 'DMLC_PS_ROOT_URI': '10.0.229.145', 'DMLC_PS_ROOT_PORT': '9000', 'DMLC_NUM_SERVER': '1', 'DMLC_NUM_WORKER': '1'}\u001b[0m\n",
      "\u001b[34m[01/21/2024 18:19:51 INFO 139995343583040] Launching parameter server for role server\u001b[0m\n",
      "\u001b[34m[01/21/2024 18:19:51 INFO 139995343583040] {'ENVROOT': '/opt/amazon', 'PROTOCOL_BUFFERS_PYTHON_IMPLEMENTATION': 'cpp', 'HOSTNAME': 'ip-10-0-229-145.ec2.internal', 'TRAINING_JOB_NAME': 'fraud-detect-rcf-train-job--5bb4b-2024-01-21-18-16-15-776', 'NVIDIA_REQUIRE_CUDA': 'cuda>=9.0', 'TRAINING_JOB_ARN': 'arn:aws:sagemaker:us-east-1:287758680514:training-job/fraud-detect-rcf-train-job--5bb4b-2024-01-21-18-16-15-776', 'AWS_CONTAINER_CREDENTIALS_RELATIVE_URI': '/v2/credentials/proxy-65bfcdb6bf315f746c6bffe01a304da6009a2a3b94de86b0bc30ea7712356c94-customer', 'CANONICAL_ENVROOT': '/opt/amazon', 'PYTHONUNBUFFERED': 'TRUE', 'NVIDIA_VISIBLE_DEVICES': 'all', 'LD_LIBRARY_PATH': '/opt/amazon/lib/python3.8/site-packages/cv2/../../../../lib:/usr/local/nvidia/lib64:/opt/amazon/lib', 'MXNET_KVSTORE_BIGARRAY_BOUND': '400000000', 'NVIDIA_DRIVER_CAPABILITIES': 'compute,utility', 'SAGEMAKER_MANAGED_WARMPOOL_CACHE_DIRECTORY': '/opt/ml/sagemaker/warmpoolcache', 'PATH': '/opt/amazon/bin:/usr/local/nvidia/bin:/usr/local/sbin:/usr/local/bin:/usr/sbin:/usr/bin:/sbin:/bin', 'PWD': '/', 'LANG': 'en_US.utf8', 'AWS_REGION': 'us-east-1', 'SAGEMAKER_METRICS_DIRECTORY': '/opt/ml/output/metrics/sagemaker', 'CUDA_VERSION': '11.1', 'HOME': '/root', 'SHLVL': '1', 'CUDA_COMPAT_NDRIVER_SUPPORTED_VERSION': '455.32.00', 'PROTOCOL_BUFFERS_PYTHON_IMPLEMENTATION_VERSION': '2', 'OMP_NUM_THREADS': '2', 'DMLC_INTERFACE': 'eth0', 'SAGEMAKER_HTTP_PORT': '8080', 'SAGEMAKER_DATA_PATH': '/opt/ml', 'KMP_DUPLICATE_LIB_OK': 'True', 'KMP_INIT_AT_FORK': 'FALSE'}\u001b[0m\n",
      "\u001b[34m[01/21/2024 18:19:51 INFO 139995343583040] envs={'ENVROOT': '/opt/amazon', 'PROTOCOL_BUFFERS_PYTHON_IMPLEMENTATION': 'cpp', 'HOSTNAME': 'ip-10-0-229-145.ec2.internal', 'TRAINING_JOB_NAME': 'fraud-detect-rcf-train-job--5bb4b-2024-01-21-18-16-15-776', 'NVIDIA_REQUIRE_CUDA': 'cuda>=9.0', 'TRAINING_JOB_ARN': 'arn:aws:sagemaker:us-east-1:287758680514:training-job/fraud-detect-rcf-train-job--5bb4b-2024-01-21-18-16-15-776', 'AWS_CONTAINER_CREDENTIALS_RELATIVE_URI': '/v2/credentials/proxy-65bfcdb6bf315f746c6bffe01a304da6009a2a3b94de86b0bc30ea7712356c94-customer', 'CANONICAL_ENVROOT': '/opt/amazon', 'PYTHONUNBUFFERED': 'TRUE', 'NVIDIA_VISIBLE_DEVICES': 'all', 'LD_LIBRARY_PATH': '/opt/amazon/lib/python3.8/site-packages/cv2/../../../../lib:/usr/local/nvidia/lib64:/opt/amazon/lib', 'MXNET_KVSTORE_BIGARRAY_BOUND': '400000000', 'NVIDIA_DRIVER_CAPABILITIES': 'compute,utility', 'SAGEMAKER_MANAGED_WARMPOOL_CACHE_DIRECTORY': '/opt/ml/sagemaker/warmpoolcache', 'PATH': '/opt/amazon/bin:/usr/local/nvidia/bin:/usr/local/sbin:/usr/local/bin:/usr/sbin:/usr/bin:/sbin:/bin', 'PWD': '/', 'LANG': 'en_US.utf8', 'AWS_REGION': 'us-east-1', 'SAGEMAKER_METRICS_DIRECTORY': '/opt/ml/output/metrics/sagemaker', 'CUDA_VERSION': '11.1', 'HOME': '/root', 'SHLVL': '1', 'CUDA_COMPAT_NDRIVER_SUPPORTED_VERSION': '455.32.00', 'PROTOCOL_BUFFERS_PYTHON_IMPLEMENTATION_VERSION': '2', 'OMP_NUM_THREADS': '2', 'DMLC_INTERFACE': 'eth0', 'SAGEMAKER_HTTP_PORT': '8080', 'SAGEMAKER_DATA_PATH': '/opt/ml', 'KMP_DUPLICATE_LIB_OK': 'True', 'KMP_INIT_AT_FORK': 'FALSE', 'DMLC_ROLE': 'server', 'DMLC_PS_ROOT_URI': '10.0.229.145', 'DMLC_PS_ROOT_PORT': '9000', 'DMLC_NUM_SERVER': '1', 'DMLC_NUM_WORKER': '1'}\u001b[0m\n",
      "\u001b[34m[01/21/2024 18:19:51 INFO 139995343583040] Environment: {'ENVROOT': '/opt/amazon', 'PROTOCOL_BUFFERS_PYTHON_IMPLEMENTATION': 'cpp', 'HOSTNAME': 'ip-10-0-229-145.ec2.internal', 'TRAINING_JOB_NAME': 'fraud-detect-rcf-train-job--5bb4b-2024-01-21-18-16-15-776', 'NVIDIA_REQUIRE_CUDA': 'cuda>=9.0', 'TRAINING_JOB_ARN': 'arn:aws:sagemaker:us-east-1:287758680514:training-job/fraud-detect-rcf-train-job--5bb4b-2024-01-21-18-16-15-776', 'AWS_CONTAINER_CREDENTIALS_RELATIVE_URI': '/v2/credentials/proxy-65bfcdb6bf315f746c6bffe01a304da6009a2a3b94de86b0bc30ea7712356c94-customer', 'CANONICAL_ENVROOT': '/opt/amazon', 'PYTHONUNBUFFERED': 'TRUE', 'NVIDIA_VISIBLE_DEVICES': 'all', 'LD_LIBRARY_PATH': '/opt/amazon/lib/python3.8/site-packages/cv2/../../../../lib:/usr/local/nvidia/lib64:/opt/amazon/lib', 'MXNET_KVSTORE_BIGARRAY_BOUND': '400000000', 'NVIDIA_DRIVER_CAPABILITIES': 'compute,utility', 'SAGEMAKER_MANAGED_WARMPOOL_CACHE_DIRECTORY': '/opt/ml/sagemaker/warmpoolcache', 'PATH': '/opt/amazon/bin:/usr/local/nvidia/bin:/usr/local/sbin:/usr/local/bin:/usr/sbin:/usr/bin:/sbin:/bin', 'PWD': '/', 'LANG': 'en_US.utf8', 'AWS_REGION': 'us-east-1', 'SAGEMAKER_METRICS_DIRECTORY': '/opt/ml/output/metrics/sagemaker', 'CUDA_VERSION': '11.1', 'HOME': '/root', 'SHLVL': '1', 'CUDA_COMPAT_NDRIVER_SUPPORTED_VERSION': '455.32.00', 'PROTOCOL_BUFFERS_PYTHON_IMPLEMENTATION_VERSION': '2', 'OMP_NUM_THREADS': '2', 'DMLC_INTERFACE': 'eth0', 'SAGEMAKER_HTTP_PORT': '8080', 'SAGEMAKER_DATA_PATH': '/opt/ml', 'KMP_DUPLICATE_LIB_OK': 'True', 'KMP_INIT_AT_FORK': 'FALSE', 'DMLC_ROLE': 'worker', 'DMLC_PS_ROOT_URI': '10.0.229.145', 'DMLC_PS_ROOT_PORT': '9000', 'DMLC_NUM_SERVER': '1', 'DMLC_NUM_WORKER': '1'}\u001b[0m\n",
      "\u001b[34mProcess 34 is a shell:scheduler.\u001b[0m\n",
      "\u001b[34mProcess 43 is a shell:server.\u001b[0m\n",
      "\u001b[34mProcess 7 is a worker.\u001b[0m\n",
      "\u001b[34m[01/21/2024 18:19:51 INFO 139995343583040] Using default worker.\u001b[0m\n",
      "\u001b[34m[01/21/2024 18:19:51 INFO 139995343583040] Loaded iterator creator application/x-recordio-protobuf for content type ('application/x-recordio-protobuf', '1.0')\u001b[0m\n",
      "\u001b[34m[01/21/2024 18:19:51 INFO 139995343583040] Checkpoint loading and saving are disabled.\u001b[0m\n",
      "\u001b[34m[01/21/2024 18:19:51 INFO 139995343583040] Verifying hyperparamemters...\u001b[0m\n",
      "\u001b[34m[01/21/2024 18:19:51 INFO 139995343583040] Hyperparameters are correct.\u001b[0m\n",
      "\u001b[34m[01/21/2024 18:19:51 INFO 139995343583040] Validating that feature_dim agrees with dimensions in training data...\u001b[0m\n",
      "\u001b[34m[01/21/2024 18:19:51 INFO 139995343583040] feature_dim is correct.\u001b[0m\n",
      "\u001b[34m[01/21/2024 18:19:51 INFO 139995343583040] Validating memory limits...\u001b[0m\n",
      "\u001b[34m[01/21/2024 18:19:51 INFO 139995343583040] Available memory in bytes: 15396696064\u001b[0m\n",
      "\u001b[34m[01/21/2024 18:19:51 INFO 139995343583040] Estimated sample size in bytes: 6144000\u001b[0m\n",
      "\u001b[34m[01/21/2024 18:19:51 INFO 139995343583040] Estimated memory needed to build the forest in bytes: 30720000\u001b[0m\n",
      "\u001b[34m[01/21/2024 18:19:51 INFO 139995343583040] Memory limits validated.\u001b[0m\n",
      "\u001b[34m[01/21/2024 18:19:51 INFO 139995343583040] Starting cluster sharing facilities...\u001b[0m\n",
      "\u001b[34m[01/21/2024 18:19:51 INFO 139992512853760] concurrency model: async\u001b[0m\n",
      "\u001b[34m[01/21/2024 18:19:51 INFO 139992512853760] masquerade (NAT) address: None\u001b[0m\n",
      "\u001b[34m[01/21/2024 18:19:51 INFO 139995343583040] Create Store: dist_async\u001b[0m\n",
      "\u001b[34m[01/21/2024 18:19:51 INFO 139992512853760] passive ports: None\u001b[0m\n",
      "\u001b[34m[01/21/2024 18:19:51 INFO 139992512853760] >>> starting FTP server on 0.0.0.0:8999, pid=7 <<<\u001b[0m\n",
      "\u001b[34m[01/21/2024 18:19:52 INFO 139995343583040] Cluster sharing facilities started.\u001b[0m\n",
      "\u001b[34m[01/21/2024 18:19:52 INFO 139995343583040] Verifying all workers are accessible...\u001b[0m\n",
      "\u001b[34m[01/21/2024 18:19:52 INFO 139995343583040] All workers accessible.\u001b[0m\n",
      "\u001b[34m[01/21/2024 18:19:52 INFO 139995343583040] Initializing Sampler...\u001b[0m\n",
      "\u001b[34m[01/21/2024 18:19:52 INFO 139995343583040] Sampler correctly initialized.\u001b[0m\n",
      "\u001b[34m#metrics {\"StartTime\": 1705861191.1294653, \"EndTime\": 1705861192.5200288, \"Dimensions\": {\"Algorithm\": \"RandomCutForest\", \"Host\": \"algo-1\", \"Operation\": \"training\"}, \"Metrics\": {\"initialize.time\": {\"sum\": 1386.699914932251, \"count\": 1, \"min\": 1386.699914932251, \"max\": 1386.699914932251}}}\u001b[0m\n",
      "\u001b[34m#metrics {\"StartTime\": 1705861192.5202363, \"EndTime\": 1705861192.5202756, \"Dimensions\": {\"Algorithm\": \"RandomCutForest\", \"Host\": \"algo-1\", \"Operation\": \"training\", \"Meta\": \"init_train_data_iter\"}, \"Metrics\": {\"Total Records Seen\": {\"sum\": 0.0, \"count\": 1, \"min\": 0, \"max\": 0}, \"Total Batches Seen\": {\"sum\": 0.0, \"count\": 1, \"min\": 0, \"max\": 0}, \"Max Records Seen Between Resets\": {\"sum\": 0.0, \"count\": 1, \"min\": 0, \"max\": 0}, \"Max Batches Seen Between Resets\": {\"sum\": 0.0, \"count\": 1, \"min\": 0, \"max\": 0}, \"Reset Count\": {\"sum\": 0.0, \"count\": 1, \"min\": 0, \"max\": 0}, \"Number of Records Since Last Reset\": {\"sum\": 0.0, \"count\": 1, \"min\": 0, \"max\": 0}, \"Number of Batches Since Last Reset\": {\"sum\": 0.0, \"count\": 1, \"min\": 0, \"max\": 0}}}\u001b[0m\n",
      "\u001b[34m[2024-01-21 18:19:52.522] [tensorio] [info] epoch_stats={\"data_pipeline\": \"/opt/ml/input/data/train\", \"epoch\": 0, \"duration\": 1392, \"num_examples\": 1, \"num_bytes\": 148000}\u001b[0m\n",
      "\u001b[34m[01/21/2024 18:19:52 INFO 139995343583040] Sampling training data...\u001b[0m\n",
      "\u001b[34m[2024-01-21 18:19:52.903] [tensorio] [info] epoch_stats={\"data_pipeline\": \"/opt/ml/input/data/train\", \"epoch\": 1, \"duration\": 380, \"num_examples\": 257, \"num_bytes\": 37936248}\u001b[0m\n",
      "\u001b[34m[01/21/2024 18:19:52 INFO 139995343583040] Sampling training data completed.\u001b[0m\n",
      "\u001b[34m#metrics {\"StartTime\": 1705861192.520186, \"EndTime\": 1705861192.9156272, \"Dimensions\": {\"Algorithm\": \"RandomCutForest\", \"Host\": \"algo-1\", \"Operation\": \"training\"}, \"Metrics\": {\"epochs\": {\"sum\": 1.0, \"count\": 1, \"min\": 1, \"max\": 1}, \"update.time\": {\"sum\": 392.9319381713867, \"count\": 1, \"min\": 392.9319381713867, \"max\": 392.9319381713867}}}\u001b[0m\n",
      "\u001b[34m[01/21/2024 18:19:52 INFO 139995343583040] Early stop condition met. Stopping training.\u001b[0m\n",
      "\u001b[34m[01/21/2024 18:19:52 INFO 139995343583040] #progress_metric: host=algo-1, completed 100 % epochs\u001b[0m\n",
      "\u001b[34m#metrics {\"StartTime\": 1705861192.5226555, \"EndTime\": 1705861192.9160357, \"Dimensions\": {\"Algorithm\": \"RandomCutForest\", \"Host\": \"algo-1\", \"Operation\": \"training\", \"epoch\": 0, \"Meta\": \"training_data_iter\"}, \"Metrics\": {\"Total Records Seen\": {\"sum\": 256326.0, \"count\": 1, \"min\": 256326, \"max\": 256326}, \"Total Batches Seen\": {\"sum\": 257.0, \"count\": 1, \"min\": 257, \"max\": 257}, \"Max Records Seen Between Resets\": {\"sum\": 256326.0, \"count\": 1, \"min\": 256326, \"max\": 256326}, \"Max Batches Seen Between Resets\": {\"sum\": 257.0, \"count\": 1, \"min\": 257, \"max\": 257}, \"Reset Count\": {\"sum\": 1.0, \"count\": 1, \"min\": 1, \"max\": 1}, \"Number of Records Since Last Reset\": {\"sum\": 256326.0, \"count\": 1, \"min\": 256326, \"max\": 256326}, \"Number of Batches Since Last Reset\": {\"sum\": 257.0, \"count\": 1, \"min\": 257, \"max\": 257}}}\u001b[0m\n",
      "\u001b[34m[01/21/2024 18:19:52 INFO 139995343583040] #throughput_metric: host=algo-1, train throughput=651293.1655110164 records/second\u001b[0m\n",
      "\u001b[34m[01/21/2024 18:19:52 INFO 139995343583040] Master node: building Random Cut Forest...\u001b[0m\n",
      "\u001b[34m[01/21/2024 18:19:52 INFO 139995343583040] Gathering samples...\u001b[0m\n",
      "\u001b[34m[01/21/2024 18:19:52 INFO 139995343583040] 25600 samples gathered\u001b[0m\n",
      "\u001b[34m[01/21/2024 18:19:52 INFO 139995343583040] Building Random Cut Forest...\u001b[0m\n",
      "\u001b[34m[01/21/2024 18:19:52 INFO 139995343583040] Random Cut Forest built: \u001b[0m\n",
      "\u001b[34mForestInfo{num_trees: 50, num_samples_in_forest: 25600, num_samples_per_tree: 512, sample_dim: 30, shingle_size: 1, trees_num_nodes: [953, 919, 941, 955, 961, 907, 941, 929, 923, 913, 935, 921, 933, 939, 931, 943, 919, 941, 943, 929, 945, 935, 941, 915, 925, 917, 925, 931, 921, 917, 941, 925, 923, 929, 925, 937, 925, 939, 945, 921, 939, 923, 925, 921, 933, 915, 929, 945, 921, 929, ], trees_depth: [22, 25, 20, 22, 20, 19, 18, 23, 22, 23, 23, 20, 22, 21, 20, 19, 21, 23, 22, 20, 19, 21, 21, 22, 20, 18, 23, 22, 20, 22, 21, 21, 18, 21, 18, 19, 21, 20, 24, 21, 21, 21, 25, 20, 20, 19, 20, 21, 20, 20, ], max_num_nodes: 961, min_num_nodes: 907, avg_num_nodes: 930, max_tree_depth: 25, min_tree_depth: 18, avg_tree_depth: 20, mem_size: 26434032}\u001b[0m\n",
      "\u001b[34m#metrics {\"StartTime\": 1705861192.9157283, \"EndTime\": 1705861192.9962833, \"Dimensions\": {\"Algorithm\": \"RandomCutForest\", \"Host\": \"algo-1\", \"Operation\": \"training\"}, \"Metrics\": {\"fit_model.time\": {\"sum\": 56.26726150512695, \"count\": 1, \"min\": 56.26726150512695, \"max\": 56.26726150512695}, \"model.bytes\": {\"sum\": 26434032.0, \"count\": 1, \"min\": 26434032, \"max\": 26434032}, \"finalize.time\": {\"sum\": 79.85758781433105, \"count\": 1, \"min\": 79.85758781433105, \"max\": 79.85758781433105}}}\u001b[0m\n",
      "\u001b[34m[01/21/2024 18:19:53 INFO 139995343583040] Master node: Serializing the RandomCutForest model\u001b[0m\n",
      "\u001b[34m#metrics {\"StartTime\": 1705861192.9964228, \"EndTime\": 1705861193.9511619, \"Dimensions\": {\"Algorithm\": \"RandomCutForest\", \"Host\": \"algo-1\", \"Operation\": \"training\"}, \"Metrics\": {\"serialize_model.time\": {\"sum\": 954.6895027160645, \"count\": 1, \"min\": 954.6895027160645, \"max\": 954.6895027160645}}}\u001b[0m\n",
      "\u001b[34m[01/21/2024 18:19:53 INFO 139995343583040] Test data is not provided.\u001b[0m\n",
      "\u001b[34m#metrics {\"StartTime\": 1705861193.9512582, \"EndTime\": 1705861193.9601703, \"Dimensions\": {\"Algorithm\": \"RandomCutForest\", \"Host\": \"algo-1\", \"Operation\": \"training\"}, \"Metrics\": {\"setuptime\": {\"sum\": 30.425071716308594, \"count\": 1, \"min\": 30.425071716308594, \"max\": 30.425071716308594}, \"totaltime\": {\"sum\": 2868.168592453003, \"count\": 1, \"min\": 2868.168592453003, \"max\": 2868.168592453003}}}\u001b[0m\n",
      "\n",
      "2024-01-21 18:20:12 Uploading - Uploading generated training model\n",
      "2024-01-21 18:20:12 Completed - Training job completed\n",
      "Training seconds: 152\n",
      "Billable seconds: 152\n"
     ]
    }
   ],
   "source": [
    "rcf.fit(rcf.record_set(X_train))"
   ]
  },
  {
   "cell_type": "code",
   "execution_count": 8,
   "id": "6ce94308-d788-4966-afc0-74d3de00addd",
   "metadata": {
    "tags": []
   },
   "outputs": [
    {
     "ename": "NameError",
     "evalue": "name 'rcf' is not defined",
     "output_type": "error",
     "traceback": [
      "\u001b[0;31m---------------------------------------------------------------------------\u001b[0m",
      "\u001b[0;31mNameError\u001b[0m                                 Traceback (most recent call last)",
      "Cell \u001b[0;32mIn[8], line 9\u001b[0m\n\u001b[1;32m      6\u001b[0m \u001b[38;5;66;03m# instance_type_inference = \"ml.g4dn.2xlarge\"\u001b[39;00m\n\u001b[1;32m      7\u001b[0m instance_type_inference \u001b[38;5;241m=\u001b[39m \u001b[38;5;124m\"\u001b[39m\u001b[38;5;124mml.inf2.xlarge\u001b[39m\u001b[38;5;124m\"\u001b[39m\n\u001b[0;32m----> 9\u001b[0m rcf_predictor \u001b[38;5;241m=\u001b[39m \u001b[43mrcf\u001b[49m\u001b[38;5;241m.\u001b[39mdeploy(\n\u001b[1;32m     10\u001b[0m     model_name\u001b[38;5;241m=\u001b[39mmodel_name,\n\u001b[1;32m     11\u001b[0m     endpoint_name\u001b[38;5;241m=\u001b[39mendpoint_name,\n\u001b[1;32m     12\u001b[0m     initial_instance_count\u001b[38;5;241m=\u001b[39m\u001b[38;5;241m1\u001b[39m,\n\u001b[1;32m     13\u001b[0m     instance_type\u001b[38;5;241m=\u001b[39minstance_type_inference,  \u001b[38;5;66;03m# use a smaller instance for endpoint deployment\u001b[39;00m\n\u001b[1;32m     14\u001b[0m     serializer\u001b[38;5;241m=\u001b[39mCSVSerializer(),\n\u001b[1;32m     15\u001b[0m     deserializer\u001b[38;5;241m=\u001b[39mJSONDeserializer(),\n\u001b[1;32m     16\u001b[0m )\n",
      "\u001b[0;31mNameError\u001b[0m: name 'rcf' is not defined"
     ]
    }
   ],
   "source": [
    "from sagemaker.serializers import CSVSerializer\n",
    "from sagemaker.deserializers import JSONDeserializer\n",
    "\n",
    "model_name = f\"model-fraud-detect-rcf-train-job--{unique_hash}\"\n",
    "endpoint_name = model_name\n",
    "# instance_type_inference = \"ml.g4dn.2xlarge\"\n",
    "instance_type_inference = \"ml.inf2.xlarge\"\n",
    "\n",
    "# rcf_predictor = rcf.deploy(\n",
    "#     model_name=model_name,\n",
    "#     endpoint_name=endpoint_name,\n",
    "#     initial_instance_count=1,\n",
    "#     instance_type=instance_type_inference,  # use a smaller instance for endpoint deployment\n",
    "#     serializer=CSVSerializer(),\n",
    "#     deserializer=JSONDeserializer(),\n",
    "# )"
   ]
  },
  {
   "cell_type": "code",
   "execution_count": 13,
   "id": "45dd7526-1b72-4657-8d19-68d946439f2a",
   "metadata": {
    "tags": []
   },
   "outputs": [],
   "source": [
    "sm_client = boto3.client(\"sagemaker\")"
   ]
  },
  {
   "cell_type": "code",
   "execution_count": 14,
   "id": "2220ae5f-7a09-497c-ba05-efcc4b97433b",
   "metadata": {
    "tags": []
   },
   "outputs": [],
   "source": [
    "paginator  = sm_client.get_paginator('list_training_jobs')"
   ]
  },
  {
   "cell_type": "code",
   "execution_count": 22,
   "id": "89b78f5e-c06b-4f9d-8ab2-099a0e3d3f1a",
   "metadata": {
    "tags": []
   },
   "outputs": [],
   "source": [
    "# for tj in paginator.paginate():\n",
    "#     for page in tj['TrainingJobSummaries']:\n",
    "#         print (page['TrainingJobName'])"
   ]
  },
  {
   "cell_type": "code",
   "execution_count": 23,
   "id": "b7234077-5928-4211-9632-41c4970e3fef",
   "metadata": {
    "tags": []
   },
   "outputs": [],
   "source": [
    "# dir(sm_client)"
   ]
  },
  {
   "cell_type": "code",
   "execution_count": 3,
   "id": "4472eab4-1f97-464b-b3c6-e212d3c0d4a4",
   "metadata": {
    "tags": []
   },
   "outputs": [],
   "source": [
    "training_job_name = 'fraud-detect-rcf-train-job--5bb4b-2024-01-21-18-16-15-776'"
   ]
  },
  {
   "cell_type": "code",
   "execution_count": 4,
   "id": "2145901d-e829-4173-9dfe-ed2185362de7",
   "metadata": {
    "tags": []
   },
   "outputs": [
    {
     "name": "stdout",
     "output_type": "stream",
     "text": [
      "sagemaker.config INFO - Not applying SDK defaults from location: /etc/xdg/sagemaker/config.yaml\n",
      "sagemaker.config INFO - Not applying SDK defaults from location: /home/ec2-user/.config/sagemaker/config.yaml\n"
     ]
    }
   ],
   "source": [
    "from sagemaker.estimator import Estimator"
   ]
  },
  {
   "cell_type": "code",
   "execution_count": 5,
   "id": "aa770c5c-97de-4e4d-aca9-7083dc0114fe",
   "metadata": {
    "tags": []
   },
   "outputs": [
    {
     "name": "stdout",
     "output_type": "stream",
     "text": [
      "\n",
      "2024-01-21 18:20:12 Starting - Preparing the instances for training\n",
      "2024-01-21 18:20:12 Downloading - Downloading the training image\n",
      "2024-01-21 18:20:12 Training - Training image download completed. Training in progress.\n",
      "2024-01-21 18:20:12 Uploading - Uploading generated training model\n",
      "2024-01-21 18:20:12 Completed - Training job completed\n"
     ]
    }
   ],
   "source": [
    "attached_estimator = Estimator.attach(training_job_name)"
   ]
  },
  {
   "cell_type": "code",
   "execution_count": 30,
   "id": "c37f781d-09e5-49ab-93d0-9b2cdcbe5d73",
   "metadata": {
    "tags": []
   },
   "outputs": [
    {
     "data": {
      "text/plain": [
       "<sagemaker.estimator.Estimator at 0x7efbf73566e0>"
      ]
     },
     "execution_count": 30,
     "metadata": {},
     "output_type": "execute_result"
    }
   ],
   "source": [
    "attached_estimator"
   ]
  },
  {
   "cell_type": "code",
   "execution_count": 33,
   "id": "d1d27d2c-5410-40a5-8487-81925b232bdf",
   "metadata": {
    "tags": []
   },
   "outputs": [],
   "source": [
    "# dir(attached_estimator)"
   ]
  },
  {
   "cell_type": "code",
   "execution_count": 38,
   "id": "6e03fc5f-27da-4ad9-a38b-eadefadb3123",
   "metadata": {
    "tags": []
   },
   "outputs": [],
   "source": [
    "# attached_estimator.base_job_name = training_job_name\n",
    "# attached_estimator.instance_type = \"ml.inf2.xlarge\"\n",
    "# attached_estimator.instance_count = 1\n",
    "\n",
    "# model_name = f\"model-fraud-detect-rcf-train-job--{unique_hash}\"\n",
    "# endpoint_name = model_name\n",
    "# # instance_type_inference = \"ml.g4dn.2xlarge\"\n",
    "# instance_type_inference = \"ml.inf2.xlarge\""
   ]
  },
  {
   "cell_type": "code",
   "execution_count": 50,
   "id": "2dde5240-bbfa-49b2-b647-132c4668f8c2",
   "metadata": {
    "tags": []
   },
   "outputs": [],
   "source": [
    "from sagemaker.serializers import CSVSerializer\n",
    "from sagemaker.deserializers import JSONDeserializer"
   ]
  },
  {
   "cell_type": "code",
   "execution_count": 53,
   "id": "787134b3-00f0-41bc-b205-2ab5ba348766",
   "metadata": {
    "tags": []
   },
   "outputs": [
    {
     "name": "stdout",
     "output_type": "stream",
     "text": [
      "----------!"
     ]
    },
    {
     "data": {
      "text/plain": [
       "<sagemaker.base_predictor.Predictor at 0x7fd5077c1a50>"
      ]
     },
     "execution_count": 53,
     "metadata": {},
     "output_type": "execute_result"
    }
   ],
   "source": [
    "\n",
    "attached_estimator.deploy(\n",
    "    model_name='fraud-detect-rcf-train-job-csv',\n",
    "    endpoint_name='fraud-detect-rcf-train-job-csv',\n",
    "    initial_instance_count =1 , instance_type=  \"ml.m5.4xlarge\", \n",
    "                         serializer=CSVSerializer(),\n",
    "    deserializer=JSONDeserializer(),\n",
    ")"
   ]
  },
  {
   "cell_type": "code",
   "execution_count": 14,
   "id": "b4d32709-604b-4f5a-b80f-0e6ea33da2f3",
   "metadata": {
    "tags": []
   },
   "outputs": [
    {
     "data": {
      "text/plain": [
       "<botocore.client.SageMaker.Paginator.ListEndpoints at 0x7fd54c613e50>"
      ]
     },
     "execution_count": 14,
     "metadata": {},
     "output_type": "execute_result"
    }
   ],
   "source": [
    "paginator = sm_client.get_paginator('list_endpoints')\n"
   ]
  },
  {
   "cell_type": "code",
   "execution_count": 54,
   "id": "604aac2c-22c9-4052-830f-06688e71e615",
   "metadata": {
    "tags": []
   },
   "outputs": [
    {
     "name": "stdout",
     "output_type": "stream",
     "text": [
      "fraud-detect-rcf-train-job-csv\n"
     ]
    }
   ],
   "source": [
    "for page in paginator.paginate():\n",
    "    print (page['Endpoints'][0]['EndpointName'])"
   ]
  },
  {
   "cell_type": "code",
   "execution_count": 55,
   "id": "eedd4f30-fa1a-4093-892d-8063d083d0de",
   "metadata": {
    "tags": []
   },
   "outputs": [],
   "source": [
    "endpoint_name = 'fraud-detect-rcf-train-job-csv'"
   ]
  },
  {
   "cell_type": "code",
   "execution_count": 56,
   "id": "5dab0d17-785d-48aa-8a78-7ec343fdd38f",
   "metadata": {
    "tags": []
   },
   "outputs": [],
   "source": [
    "from sagemaker.predictor import Predictor\n",
    "predictor = Predictor(endpoint_name=endpoint_name)"
   ]
  },
  {
   "cell_type": "code",
   "execution_count": 65,
   "id": "affad525-fbe5-49ff-bf13-0b666dd1e285",
   "metadata": {
    "tags": []
   },
   "outputs": [],
   "source": [
    "def predict_rcf(current_predictor, data, rows=500):\n",
    "    split_array = np.array_split(data, int(data.shape[0] / float(rows) + 1))\n",
    "    predictions = []\n",
    "    for index, array in enumerate(split_array):\n",
    "        # print (np.array2string(array))\n",
    "        str =np.array2string(array)\n",
    "        # print (index)\n",
    "        array_preds = [s[\"score\"] for s in current_predictor.predict(str)[\"scores\"]]\n",
    "        predictions.append(array_preds)\n",
    "\n",
    "    return np.concatenate([np.array(batch) for batch in predictions])"
   ]
  },
  {
   "cell_type": "code",
   "execution_count": 66,
   "id": "8a869c72-b92d-4095-b66e-13ecda904ba4",
   "metadata": {
    "tags": []
   },
   "outputs": [
    {
     "ename": "ModelError",
     "evalue": "An error occurred (ModelError) when calling the InvokeEndpoint operation: Received client error (415) from primary with message \"content-type application/octet-stream not supported\". See https://us-east-1.console.aws.amazon.com/cloudwatch/home?region=us-east-1#logEventViewer:group=/aws/sagemaker/Endpoints/fraud-detect-rcf-train-job-csv in account 287758680514 for more information.",
     "output_type": "error",
     "traceback": [
      "\u001b[0;31m---------------------------------------------------------------------------\u001b[0m",
      "\u001b[0;31mModelError\u001b[0m                                Traceback (most recent call last)",
      "Cell \u001b[0;32mIn[66], line 1\u001b[0m\n\u001b[0;32m----> 1\u001b[0m scores \u001b[38;5;241m=\u001b[39m \u001b[43mpredict_rcf\u001b[49m\u001b[43m(\u001b[49m\u001b[43mpredictor\u001b[49m\u001b[43m,\u001b[49m\u001b[43m \u001b[49m\u001b[43mX_test\u001b[49m\u001b[43m)\u001b[49m\n",
      "Cell \u001b[0;32mIn[65], line 8\u001b[0m, in \u001b[0;36mpredict_rcf\u001b[0;34m(current_predictor, data, rows)\u001b[0m\n\u001b[1;32m      6\u001b[0m     \u001b[38;5;28mstr\u001b[39m \u001b[38;5;241m=\u001b[39mnp\u001b[38;5;241m.\u001b[39marray2string(array)\n\u001b[1;32m      7\u001b[0m     \u001b[38;5;66;03m# print (index)\u001b[39;00m\n\u001b[0;32m----> 8\u001b[0m     array_preds \u001b[38;5;241m=\u001b[39m [s[\u001b[38;5;124m\"\u001b[39m\u001b[38;5;124mscore\u001b[39m\u001b[38;5;124m\"\u001b[39m] \u001b[38;5;28;01mfor\u001b[39;00m s \u001b[38;5;129;01min\u001b[39;00m \u001b[43mcurrent_predictor\u001b[49m\u001b[38;5;241;43m.\u001b[39;49m\u001b[43mpredict\u001b[49m\u001b[43m(\u001b[49m\u001b[38;5;28;43mstr\u001b[39;49m\u001b[43m)\u001b[49m[\u001b[38;5;124m\"\u001b[39m\u001b[38;5;124mscores\u001b[39m\u001b[38;5;124m\"\u001b[39m]]\n\u001b[1;32m      9\u001b[0m     predictions\u001b[38;5;241m.\u001b[39mappend(array_preds)\n\u001b[1;32m     11\u001b[0m \u001b[38;5;28;01mreturn\u001b[39;00m np\u001b[38;5;241m.\u001b[39mconcatenate([np\u001b[38;5;241m.\u001b[39marray(batch) \u001b[38;5;28;01mfor\u001b[39;00m batch \u001b[38;5;129;01min\u001b[39;00m predictions])\n",
      "File \u001b[0;32m~/anaconda3/envs/pytorch_p310/lib/python3.10/site-packages/sagemaker/base_predictor.py:209\u001b[0m, in \u001b[0;36mPredictor.predict\u001b[0;34m(self, data, initial_args, target_model, target_variant, inference_id, custom_attributes, component_name)\u001b[0m\n\u001b[1;32m    206\u001b[0m \u001b[38;5;28;01mif\u001b[39;00m inference_component_name:\n\u001b[1;32m    207\u001b[0m     request_args[\u001b[38;5;124m\"\u001b[39m\u001b[38;5;124mInferenceComponentName\u001b[39m\u001b[38;5;124m\"\u001b[39m] \u001b[38;5;241m=\u001b[39m inference_component_name\n\u001b[0;32m--> 209\u001b[0m response \u001b[38;5;241m=\u001b[39m \u001b[38;5;28;43mself\u001b[39;49m\u001b[38;5;241;43m.\u001b[39;49m\u001b[43msagemaker_session\u001b[49m\u001b[38;5;241;43m.\u001b[39;49m\u001b[43msagemaker_runtime_client\u001b[49m\u001b[38;5;241;43m.\u001b[39;49m\u001b[43minvoke_endpoint\u001b[49m\u001b[43m(\u001b[49m\u001b[38;5;241;43m*\u001b[39;49m\u001b[38;5;241;43m*\u001b[39;49m\u001b[43mrequest_args\u001b[49m\u001b[43m)\u001b[49m\n\u001b[1;32m    210\u001b[0m \u001b[38;5;28;01mreturn\u001b[39;00m \u001b[38;5;28mself\u001b[39m\u001b[38;5;241m.\u001b[39m_handle_response(response)\n",
      "File \u001b[0;32m~/anaconda3/envs/pytorch_p310/lib/python3.10/site-packages/botocore/client.py:553\u001b[0m, in \u001b[0;36mClientCreator._create_api_method.<locals>._api_call\u001b[0;34m(self, *args, **kwargs)\u001b[0m\n\u001b[1;32m    549\u001b[0m     \u001b[38;5;28;01mraise\u001b[39;00m \u001b[38;5;167;01mTypeError\u001b[39;00m(\n\u001b[1;32m    550\u001b[0m         \u001b[38;5;124mf\u001b[39m\u001b[38;5;124m\"\u001b[39m\u001b[38;5;132;01m{\u001b[39;00mpy_operation_name\u001b[38;5;132;01m}\u001b[39;00m\u001b[38;5;124m() only accepts keyword arguments.\u001b[39m\u001b[38;5;124m\"\u001b[39m\n\u001b[1;32m    551\u001b[0m     )\n\u001b[1;32m    552\u001b[0m \u001b[38;5;66;03m# The \"self\" in this scope is referring to the BaseClient.\u001b[39;00m\n\u001b[0;32m--> 553\u001b[0m \u001b[38;5;28;01mreturn\u001b[39;00m \u001b[38;5;28;43mself\u001b[39;49m\u001b[38;5;241;43m.\u001b[39;49m\u001b[43m_make_api_call\u001b[49m\u001b[43m(\u001b[49m\u001b[43moperation_name\u001b[49m\u001b[43m,\u001b[49m\u001b[43m \u001b[49m\u001b[43mkwargs\u001b[49m\u001b[43m)\u001b[49m\n",
      "File \u001b[0;32m~/anaconda3/envs/pytorch_p310/lib/python3.10/site-packages/botocore/client.py:1009\u001b[0m, in \u001b[0;36mBaseClient._make_api_call\u001b[0;34m(self, operation_name, api_params)\u001b[0m\n\u001b[1;32m   1005\u001b[0m     error_code \u001b[38;5;241m=\u001b[39m error_info\u001b[38;5;241m.\u001b[39mget(\u001b[38;5;124m\"\u001b[39m\u001b[38;5;124mQueryErrorCode\u001b[39m\u001b[38;5;124m\"\u001b[39m) \u001b[38;5;129;01mor\u001b[39;00m error_info\u001b[38;5;241m.\u001b[39mget(\n\u001b[1;32m   1006\u001b[0m         \u001b[38;5;124m\"\u001b[39m\u001b[38;5;124mCode\u001b[39m\u001b[38;5;124m\"\u001b[39m\n\u001b[1;32m   1007\u001b[0m     )\n\u001b[1;32m   1008\u001b[0m     error_class \u001b[38;5;241m=\u001b[39m \u001b[38;5;28mself\u001b[39m\u001b[38;5;241m.\u001b[39mexceptions\u001b[38;5;241m.\u001b[39mfrom_code(error_code)\n\u001b[0;32m-> 1009\u001b[0m     \u001b[38;5;28;01mraise\u001b[39;00m error_class(parsed_response, operation_name)\n\u001b[1;32m   1010\u001b[0m \u001b[38;5;28;01melse\u001b[39;00m:\n\u001b[1;32m   1011\u001b[0m     \u001b[38;5;28;01mreturn\u001b[39;00m parsed_response\n",
      "\u001b[0;31mModelError\u001b[0m: An error occurred (ModelError) when calling the InvokeEndpoint operation: Received client error (415) from primary with message \"content-type application/octet-stream not supported\". See https://us-east-1.console.aws.amazon.com/cloudwatch/home?region=us-east-1#logEventViewer:group=/aws/sagemaker/Endpoints/fraud-detect-rcf-train-job-csv in account 287758680514 for more information."
     ]
    }
   ],
   "source": [
    "scores = predict_rcf(predictor, X_test)"
   ]
  },
  {
   "cell_type": "code",
   "execution_count": null,
   "id": "60c7b751-a961-4862-9c72-8fe1ef239792",
   "metadata": {},
   "outputs": [],
   "source": []
  }
 ],
 "metadata": {
  "kernelspec": {
   "display_name": "conda_pytorch_p310",
   "language": "python",
   "name": "conda_pytorch_p310"
  },
  "language_info": {
   "codemirror_mode": {
    "name": "ipython",
    "version": 3
   },
   "file_extension": ".py",
   "mimetype": "text/x-python",
   "name": "python",
   "nbconvert_exporter": "python",
   "pygments_lexer": "ipython3",
   "version": "3.10.13"
  }
 },
 "nbformat": 4,
 "nbformat_minor": 5
}
