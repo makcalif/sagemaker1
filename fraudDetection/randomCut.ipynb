{
 "cells": [
  {
   "cell_type": "code",
   "execution_count": 1,
   "metadata": {
    "tags": []
   },
   "outputs": [
    {
     "name": "stdout",
     "output_type": "stream",
     "text": [
      "sagemaker.config INFO - Not applying SDK defaults from location: /etc/xdg/sagemaker/config.yaml\n",
      "sagemaker.config INFO - Not applying SDK defaults from location: /home/ec2-user/.config/sagemaker/config.yaml\n"
     ]
    }
   ],
   "source": [
    "from sagemaker import RandomCutForest\n"
   ]
  },
  {
   "cell_type": "code",
   "execution_count": 2,
   "metadata": {
    "tags": []
   },
   "outputs": [],
   "source": [
    "import sagemaker\n",
    "from sagemaker import get_execution_role\n",
    "import boto3\n",
    "import json"
   ]
  },
  {
   "cell_type": "code",
   "execution_count": 3,
   "metadata": {
    "tags": []
   },
   "outputs": [
    {
     "name": "stdout",
     "output_type": "stream",
     "text": [
      "sagemaker.config INFO - Not applying SDK defaults from location: /etc/xdg/sagemaker/config.yaml\n",
      "sagemaker.config INFO - Not applying SDK defaults from location: /home/ec2-user/.config/sagemaker/config.yaml\n",
      "sagemaker.config INFO - Not applying SDK defaults from location: /etc/xdg/sagemaker/config.yaml\n",
      "sagemaker.config INFO - Not applying SDK defaults from location: /home/ec2-user/.config/sagemaker/config.yaml\n",
      "sagemaker.config INFO - Not applying SDK defaults from location: /etc/xdg/sagemaker/config.yaml\n",
      "sagemaker.config INFO - Not applying SDK defaults from location: /home/ec2-user/.config/sagemaker/config.yaml\n",
      "Using Role: arn:aws:iam::287758680514:role/service-role/AmazonSageMaker-ExecutionRole-20231027T004238\n"
     ]
    },
    {
     "data": {
      "text/plain": [
       "'sagemaker-us-east-1-287758680514'"
      ]
     },
     "execution_count": 3,
     "metadata": {},
     "output_type": "execute_result"
    }
   ],
   "source": [
    "aws_role = get_execution_role()\n",
    "\n",
    "\n",
    "sm_role = sagemaker.get_execution_role()\n",
    "\n",
    "aws_region = boto3.Session().region_name\n",
    "sm_session = sagemaker.Session()\n",
    "\n",
    "print(f\"Using Role: {sm_role}\")\n",
    "s3_bucket = sm_session.default_bucket()\n",
    "s3_bucket"
   ]
  },
  {
   "cell_type": "code",
   "execution_count": 12,
   "metadata": {
    "tags": []
   },
   "outputs": [],
   "source": [
    "import pandas as pd\n",
    "url = 'https://raw.githubusercontent.com/numenta/NAB/master/data/realKnownCause/ambient_temperature_system_failure.csv'\n",
    "df = pd.read_csv(url, sep=',')"
   ]
  },
  {
   "cell_type": "code",
   "execution_count": 13,
   "metadata": {
    "tags": []
   },
   "outputs": [
    {
     "data": {
      "text/html": [
       "<div>\n",
       "<style scoped>\n",
       "    .dataframe tbody tr th:only-of-type {\n",
       "        vertical-align: middle;\n",
       "    }\n",
       "\n",
       "    .dataframe tbody tr th {\n",
       "        vertical-align: top;\n",
       "    }\n",
       "\n",
       "    .dataframe thead th {\n",
       "        text-align: right;\n",
       "    }\n",
       "</style>\n",
       "<table border=\"1\" class=\"dataframe\">\n",
       "  <thead>\n",
       "    <tr style=\"text-align: right;\">\n",
       "      <th></th>\n",
       "      <th>timestamp</th>\n",
       "      <th>value</th>\n",
       "    </tr>\n",
       "  </thead>\n",
       "  <tbody>\n",
       "    <tr>\n",
       "      <th>0</th>\n",
       "      <td>2013-07-04 00:00:00</td>\n",
       "      <td>69.880835</td>\n",
       "    </tr>\n",
       "    <tr>\n",
       "      <th>1</th>\n",
       "      <td>2013-07-04 01:00:00</td>\n",
       "      <td>71.220227</td>\n",
       "    </tr>\n",
       "    <tr>\n",
       "      <th>2</th>\n",
       "      <td>2013-07-04 02:00:00</td>\n",
       "      <td>70.877805</td>\n",
       "    </tr>\n",
       "    <tr>\n",
       "      <th>3</th>\n",
       "      <td>2013-07-04 03:00:00</td>\n",
       "      <td>68.959400</td>\n",
       "    </tr>\n",
       "    <tr>\n",
       "      <th>4</th>\n",
       "      <td>2013-07-04 04:00:00</td>\n",
       "      <td>69.283551</td>\n",
       "    </tr>\n",
       "    <tr>\n",
       "      <th>...</th>\n",
       "      <td>...</td>\n",
       "      <td>...</td>\n",
       "    </tr>\n",
       "    <tr>\n",
       "      <th>7262</th>\n",
       "      <td>2014-05-28 11:00:00</td>\n",
       "      <td>72.370206</td>\n",
       "    </tr>\n",
       "    <tr>\n",
       "      <th>7263</th>\n",
       "      <td>2014-05-28 12:00:00</td>\n",
       "      <td>72.172956</td>\n",
       "    </tr>\n",
       "    <tr>\n",
       "      <th>7264</th>\n",
       "      <td>2014-05-28 13:00:00</td>\n",
       "      <td>72.046565</td>\n",
       "    </tr>\n",
       "    <tr>\n",
       "      <th>7265</th>\n",
       "      <td>2014-05-28 14:00:00</td>\n",
       "      <td>71.825226</td>\n",
       "    </tr>\n",
       "    <tr>\n",
       "      <th>7266</th>\n",
       "      <td>2014-05-28 15:00:00</td>\n",
       "      <td>72.584089</td>\n",
       "    </tr>\n",
       "  </tbody>\n",
       "</table>\n",
       "<p>7267 rows × 2 columns</p>\n",
       "</div>"
      ],
      "text/plain": [
       "                timestamp      value\n",
       "0     2013-07-04 00:00:00  69.880835\n",
       "1     2013-07-04 01:00:00  71.220227\n",
       "2     2013-07-04 02:00:00  70.877805\n",
       "3     2013-07-04 03:00:00  68.959400\n",
       "4     2013-07-04 04:00:00  69.283551\n",
       "...                   ...        ...\n",
       "7262  2014-05-28 11:00:00  72.370206\n",
       "7263  2014-05-28 12:00:00  72.172956\n",
       "7264  2014-05-28 13:00:00  72.046565\n",
       "7265  2014-05-28 14:00:00  71.825226\n",
       "7266  2014-05-28 15:00:00  72.584089\n",
       "\n",
       "[7267 rows x 2 columns]"
      ]
     },
     "execution_count": 13,
     "metadata": {},
     "output_type": "execute_result"
    }
   ],
   "source": [
    "df"
   ]
  },
  {
   "cell_type": "code",
   "execution_count": 16,
   "metadata": {
    "tags": []
   },
   "outputs": [],
   "source": [
    "df['timestamp'] = pd.to_datetime(df['timestamp'])"
   ]
  },
  {
   "cell_type": "code",
   "execution_count": 18,
   "metadata": {
    "tags": []
   },
   "outputs": [],
   "source": [
    "df['year'] = df['timestamp'].apply(lambda x: x.year)"
   ]
  },
  {
   "cell_type": "code",
   "execution_count": 20,
   "metadata": {
    "tags": []
   },
   "outputs": [],
   "source": [
    "df['month'] = df['timestamp'].apply(lambda x: x.month)"
   ]
  },
  {
   "cell_type": "code",
   "execution_count": 22,
   "metadata": {
    "tags": []
   },
   "outputs": [],
   "source": [
    "df['day'] = df['timestamp'].apply(lambda x: x.day)"
   ]
  },
  {
   "cell_type": "code",
   "execution_count": 26,
   "metadata": {
    "tags": []
   },
   "outputs": [],
   "source": [
    "df['hour'] = df['timestamp'].apply(lambda x: x.hour)"
   ]
  },
  {
   "cell_type": "code",
   "execution_count": 27,
   "metadata": {
    "tags": []
   },
   "outputs": [],
   "source": [
    "df['minute'] = df['timestamp'].apply(lambda x: x.minute)"
   ]
  },
  {
   "cell_type": "code",
   "execution_count": 28,
   "metadata": {
    "tags": []
   },
   "outputs": [
    {
     "data": {
      "text/html": [
       "<div>\n",
       "<style scoped>\n",
       "    .dataframe tbody tr th:only-of-type {\n",
       "        vertical-align: middle;\n",
       "    }\n",
       "\n",
       "    .dataframe tbody tr th {\n",
       "        vertical-align: top;\n",
       "    }\n",
       "\n",
       "    .dataframe thead th {\n",
       "        text-align: right;\n",
       "    }\n",
       "</style>\n",
       "<table border=\"1\" class=\"dataframe\">\n",
       "  <thead>\n",
       "    <tr style=\"text-align: right;\">\n",
       "      <th></th>\n",
       "      <th>timestamp</th>\n",
       "      <th>value</th>\n",
       "      <th>year</th>\n",
       "      <th>month</th>\n",
       "      <th>day</th>\n",
       "      <th>minute</th>\n",
       "      <th>hour</th>\n",
       "    </tr>\n",
       "  </thead>\n",
       "  <tbody>\n",
       "    <tr>\n",
       "      <th>0</th>\n",
       "      <td>2013-07-04 00:00:00</td>\n",
       "      <td>69.880835</td>\n",
       "      <td>2013</td>\n",
       "      <td>7</td>\n",
       "      <td>4</td>\n",
       "      <td>0</td>\n",
       "      <td>0</td>\n",
       "    </tr>\n",
       "    <tr>\n",
       "      <th>1</th>\n",
       "      <td>2013-07-04 01:00:00</td>\n",
       "      <td>71.220227</td>\n",
       "      <td>2013</td>\n",
       "      <td>7</td>\n",
       "      <td>4</td>\n",
       "      <td>0</td>\n",
       "      <td>1</td>\n",
       "    </tr>\n",
       "    <tr>\n",
       "      <th>2</th>\n",
       "      <td>2013-07-04 02:00:00</td>\n",
       "      <td>70.877805</td>\n",
       "      <td>2013</td>\n",
       "      <td>7</td>\n",
       "      <td>4</td>\n",
       "      <td>0</td>\n",
       "      <td>2</td>\n",
       "    </tr>\n",
       "    <tr>\n",
       "      <th>3</th>\n",
       "      <td>2013-07-04 03:00:00</td>\n",
       "      <td>68.959400</td>\n",
       "      <td>2013</td>\n",
       "      <td>7</td>\n",
       "      <td>4</td>\n",
       "      <td>0</td>\n",
       "      <td>3</td>\n",
       "    </tr>\n",
       "    <tr>\n",
       "      <th>4</th>\n",
       "      <td>2013-07-04 04:00:00</td>\n",
       "      <td>69.283551</td>\n",
       "      <td>2013</td>\n",
       "      <td>7</td>\n",
       "      <td>4</td>\n",
       "      <td>0</td>\n",
       "      <td>4</td>\n",
       "    </tr>\n",
       "    <tr>\n",
       "      <th>...</th>\n",
       "      <td>...</td>\n",
       "      <td>...</td>\n",
       "      <td>...</td>\n",
       "      <td>...</td>\n",
       "      <td>...</td>\n",
       "      <td>...</td>\n",
       "      <td>...</td>\n",
       "    </tr>\n",
       "    <tr>\n",
       "      <th>7262</th>\n",
       "      <td>2014-05-28 11:00:00</td>\n",
       "      <td>72.370206</td>\n",
       "      <td>2014</td>\n",
       "      <td>5</td>\n",
       "      <td>28</td>\n",
       "      <td>0</td>\n",
       "      <td>11</td>\n",
       "    </tr>\n",
       "    <tr>\n",
       "      <th>7263</th>\n",
       "      <td>2014-05-28 12:00:00</td>\n",
       "      <td>72.172956</td>\n",
       "      <td>2014</td>\n",
       "      <td>5</td>\n",
       "      <td>28</td>\n",
       "      <td>0</td>\n",
       "      <td>12</td>\n",
       "    </tr>\n",
       "    <tr>\n",
       "      <th>7264</th>\n",
       "      <td>2014-05-28 13:00:00</td>\n",
       "      <td>72.046565</td>\n",
       "      <td>2014</td>\n",
       "      <td>5</td>\n",
       "      <td>28</td>\n",
       "      <td>0</td>\n",
       "      <td>13</td>\n",
       "    </tr>\n",
       "    <tr>\n",
       "      <th>7265</th>\n",
       "      <td>2014-05-28 14:00:00</td>\n",
       "      <td>71.825226</td>\n",
       "      <td>2014</td>\n",
       "      <td>5</td>\n",
       "      <td>28</td>\n",
       "      <td>0</td>\n",
       "      <td>14</td>\n",
       "    </tr>\n",
       "    <tr>\n",
       "      <th>7266</th>\n",
       "      <td>2014-05-28 15:00:00</td>\n",
       "      <td>72.584089</td>\n",
       "      <td>2014</td>\n",
       "      <td>5</td>\n",
       "      <td>28</td>\n",
       "      <td>0</td>\n",
       "      <td>15</td>\n",
       "    </tr>\n",
       "  </tbody>\n",
       "</table>\n",
       "<p>7267 rows × 7 columns</p>\n",
       "</div>"
      ],
      "text/plain": [
       "               timestamp      value  year  month  day  minute  hour\n",
       "0    2013-07-04 00:00:00  69.880835  2013      7    4       0     0\n",
       "1    2013-07-04 01:00:00  71.220227  2013      7    4       0     1\n",
       "2    2013-07-04 02:00:00  70.877805  2013      7    4       0     2\n",
       "3    2013-07-04 03:00:00  68.959400  2013      7    4       0     3\n",
       "4    2013-07-04 04:00:00  69.283551  2013      7    4       0     4\n",
       "...                  ...        ...   ...    ...  ...     ...   ...\n",
       "7262 2014-05-28 11:00:00  72.370206  2014      5   28       0    11\n",
       "7263 2014-05-28 12:00:00  72.172956  2014      5   28       0    12\n",
       "7264 2014-05-28 13:00:00  72.046565  2014      5   28       0    13\n",
       "7265 2014-05-28 14:00:00  71.825226  2014      5   28       0    14\n",
       "7266 2014-05-28 15:00:00  72.584089  2014      5   28       0    15\n",
       "\n",
       "[7267 rows x 7 columns]"
      ]
     },
     "execution_count": 28,
     "metadata": {},
     "output_type": "execute_result"
    }
   ],
   "source": [
    "df"
   ]
  },
  {
   "cell_type": "code",
   "execution_count": 29,
   "metadata": {
    "tags": []
   },
   "outputs": [],
   "source": [
    "anomaly_points = [\n",
    "        [\"2013-12-10 06:25:00.000000\",\"2013-12-12 05:35:00.000000\"],\n",
    "        [\"2013-12-15 17:50:00.000000\",\"2013-12-17 17:00:00.000000\"],\n",
    "        [\"2014-01-27 14:20:00.000000\",\"2014-01-29 13:30:00.000000\"],\n",
    "        [\"2014-02-07 14:55:00.000000\",\"2014-02-09 14:05:00.000000\"]\n",
    "]"
   ]
  },
  {
   "cell_type": "code",
   "execution_count": 30,
   "metadata": {
    "tags": []
   },
   "outputs": [
    {
     "data": {
      "text/plain": [
       "[['2013-12-10 06:25:00.000000', '2013-12-12 05:35:00.000000'],\n",
       " ['2013-12-15 17:50:00.000000', '2013-12-17 17:00:00.000000'],\n",
       " ['2014-01-27 14:20:00.000000', '2014-01-29 13:30:00.000000'],\n",
       " ['2014-02-07 14:55:00.000000', '2014-02-09 14:05:00.000000']]"
      ]
     },
     "execution_count": 30,
     "metadata": {},
     "output_type": "execute_result"
    }
   ],
   "source": [
    "anomaly_points"
   ]
  },
  {
   "cell_type": "code",
   "execution_count": 43,
   "metadata": {
    "tags": []
   },
   "outputs": [],
   "source": [
    "df['anomaly'] = 0"
   ]
  },
  {
   "cell_type": "code",
   "execution_count": 44,
   "metadata": {
    "tags": []
   },
   "outputs": [
    {
     "name": "stdout",
     "output_type": "stream",
     "text": [
      "2013-12-10 06:25:00.000000 2013-12-12 05:35:00.000000\n",
      "2013-12-15 17:50:00.000000 2013-12-17 17:00:00.000000\n",
      "2014-01-27 14:20:00.000000 2014-01-29 13:30:00.000000\n",
      "2014-02-07 14:55:00.000000 2014-02-09 14:05:00.000000\n"
     ]
    }
   ],
   "source": [
    "for start,end in anomaly_points:\n",
    "    print (start, end)\n",
    "    df.loc[  ((df['timestamp'] >= start) & (df['timestamp'] <= end)), ['anomaly']] = 1  "
   ]
  },
  {
   "cell_type": "code",
   "execution_count": 53,
   "metadata": {
    "tags": []
   },
   "outputs": [
    {
     "name": "stdout",
     "output_type": "stream",
     "text": [
      "<class 'pandas.core.frame.DataFrame'>\n",
      "Int64Index: 190 entries, 3420 to 4891\n",
      "Data columns (total 8 columns):\n",
      " #   Column     Non-Null Count  Dtype         \n",
      "---  ------     --------------  -----         \n",
      " 0   timestamp  190 non-null    datetime64[ns]\n",
      " 1   value      190 non-null    float64       \n",
      " 2   year       190 non-null    int64         \n",
      " 3   month      190 non-null    int64         \n",
      " 4   day        190 non-null    int64         \n",
      " 5   minute     190 non-null    int64         \n",
      " 6   hour       190 non-null    int64         \n",
      " 7   anomaly    190 non-null    int64         \n",
      "dtypes: datetime64[ns](1), float64(1), int64(6)\n",
      "memory usage: 13.4 KB\n"
     ]
    }
   ],
   "source": [
    "df[df['anomaly'] == 1].info()"
   ]
  },
  {
   "cell_type": "code",
   "execution_count": 54,
   "metadata": {
    "tags": []
   },
   "outputs": [],
   "source": [
    "df.index = df['timestamp']"
   ]
  },
  {
   "cell_type": "code",
   "execution_count": 56,
   "metadata": {
    "tags": []
   },
   "outputs": [],
   "source": [
    "df.drop(['timestamp'], axis=1, inplace=True)"
   ]
  },
  {
   "cell_type": "code",
   "execution_count": 57,
   "metadata": {
    "tags": []
   },
   "outputs": [
    {
     "data": {
      "text/html": [
       "<div>\n",
       "<style scoped>\n",
       "    .dataframe tbody tr th:only-of-type {\n",
       "        vertical-align: middle;\n",
       "    }\n",
       "\n",
       "    .dataframe tbody tr th {\n",
       "        vertical-align: top;\n",
       "    }\n",
       "\n",
       "    .dataframe thead th {\n",
       "        text-align: right;\n",
       "    }\n",
       "</style>\n",
       "<table border=\"1\" class=\"dataframe\">\n",
       "  <thead>\n",
       "    <tr style=\"text-align: right;\">\n",
       "      <th></th>\n",
       "      <th>value</th>\n",
       "      <th>year</th>\n",
       "      <th>month</th>\n",
       "      <th>day</th>\n",
       "      <th>minute</th>\n",
       "      <th>hour</th>\n",
       "      <th>anomaly</th>\n",
       "    </tr>\n",
       "    <tr>\n",
       "      <th>timestamp</th>\n",
       "      <th></th>\n",
       "      <th></th>\n",
       "      <th></th>\n",
       "      <th></th>\n",
       "      <th></th>\n",
       "      <th></th>\n",
       "      <th></th>\n",
       "    </tr>\n",
       "  </thead>\n",
       "  <tbody>\n",
       "    <tr>\n",
       "      <th>2013-07-04 00:00:00</th>\n",
       "      <td>69.880835</td>\n",
       "      <td>2013</td>\n",
       "      <td>7</td>\n",
       "      <td>4</td>\n",
       "      <td>0</td>\n",
       "      <td>0</td>\n",
       "      <td>0</td>\n",
       "    </tr>\n",
       "    <tr>\n",
       "      <th>2013-07-04 01:00:00</th>\n",
       "      <td>71.220227</td>\n",
       "      <td>2013</td>\n",
       "      <td>7</td>\n",
       "      <td>4</td>\n",
       "      <td>0</td>\n",
       "      <td>1</td>\n",
       "      <td>0</td>\n",
       "    </tr>\n",
       "    <tr>\n",
       "      <th>2013-07-04 02:00:00</th>\n",
       "      <td>70.877805</td>\n",
       "      <td>2013</td>\n",
       "      <td>7</td>\n",
       "      <td>4</td>\n",
       "      <td>0</td>\n",
       "      <td>2</td>\n",
       "      <td>0</td>\n",
       "    </tr>\n",
       "    <tr>\n",
       "      <th>2013-07-04 03:00:00</th>\n",
       "      <td>68.959400</td>\n",
       "      <td>2013</td>\n",
       "      <td>7</td>\n",
       "      <td>4</td>\n",
       "      <td>0</td>\n",
       "      <td>3</td>\n",
       "      <td>0</td>\n",
       "    </tr>\n",
       "    <tr>\n",
       "      <th>2013-07-04 04:00:00</th>\n",
       "      <td>69.283551</td>\n",
       "      <td>2013</td>\n",
       "      <td>7</td>\n",
       "      <td>4</td>\n",
       "      <td>0</td>\n",
       "      <td>4</td>\n",
       "      <td>0</td>\n",
       "    </tr>\n",
       "    <tr>\n",
       "      <th>...</th>\n",
       "      <td>...</td>\n",
       "      <td>...</td>\n",
       "      <td>...</td>\n",
       "      <td>...</td>\n",
       "      <td>...</td>\n",
       "      <td>...</td>\n",
       "      <td>...</td>\n",
       "    </tr>\n",
       "    <tr>\n",
       "      <th>2014-05-28 11:00:00</th>\n",
       "      <td>72.370206</td>\n",
       "      <td>2014</td>\n",
       "      <td>5</td>\n",
       "      <td>28</td>\n",
       "      <td>0</td>\n",
       "      <td>11</td>\n",
       "      <td>0</td>\n",
       "    </tr>\n",
       "    <tr>\n",
       "      <th>2014-05-28 12:00:00</th>\n",
       "      <td>72.172956</td>\n",
       "      <td>2014</td>\n",
       "      <td>5</td>\n",
       "      <td>28</td>\n",
       "      <td>0</td>\n",
       "      <td>12</td>\n",
       "      <td>0</td>\n",
       "    </tr>\n",
       "    <tr>\n",
       "      <th>2014-05-28 13:00:00</th>\n",
       "      <td>72.046565</td>\n",
       "      <td>2014</td>\n",
       "      <td>5</td>\n",
       "      <td>28</td>\n",
       "      <td>0</td>\n",
       "      <td>13</td>\n",
       "      <td>0</td>\n",
       "    </tr>\n",
       "    <tr>\n",
       "      <th>2014-05-28 14:00:00</th>\n",
       "      <td>71.825226</td>\n",
       "      <td>2014</td>\n",
       "      <td>5</td>\n",
       "      <td>28</td>\n",
       "      <td>0</td>\n",
       "      <td>14</td>\n",
       "      <td>0</td>\n",
       "    </tr>\n",
       "    <tr>\n",
       "      <th>2014-05-28 15:00:00</th>\n",
       "      <td>72.584089</td>\n",
       "      <td>2014</td>\n",
       "      <td>5</td>\n",
       "      <td>28</td>\n",
       "      <td>0</td>\n",
       "      <td>15</td>\n",
       "      <td>0</td>\n",
       "    </tr>\n",
       "  </tbody>\n",
       "</table>\n",
       "<p>7267 rows × 7 columns</p>\n",
       "</div>"
      ],
      "text/plain": [
       "                         value  year  month  day  minute  hour  anomaly\n",
       "timestamp                                                              \n",
       "2013-07-04 00:00:00  69.880835  2013      7    4       0     0        0\n",
       "2013-07-04 01:00:00  71.220227  2013      7    4       0     1        0\n",
       "2013-07-04 02:00:00  70.877805  2013      7    4       0     2        0\n",
       "2013-07-04 03:00:00  68.959400  2013      7    4       0     3        0\n",
       "2013-07-04 04:00:00  69.283551  2013      7    4       0     4        0\n",
       "...                        ...   ...    ...  ...     ...   ...      ...\n",
       "2014-05-28 11:00:00  72.370206  2014      5   28       0    11        0\n",
       "2014-05-28 12:00:00  72.172956  2014      5   28       0    12        0\n",
       "2014-05-28 13:00:00  72.046565  2014      5   28       0    13        0\n",
       "2014-05-28 14:00:00  71.825226  2014      5   28       0    14        0\n",
       "2014-05-28 15:00:00  72.584089  2014      5   28       0    15        0\n",
       "\n",
       "[7267 rows x 7 columns]"
      ]
     },
     "execution_count": 57,
     "metadata": {},
     "output_type": "execute_result"
    }
   ],
   "source": [
    "df"
   ]
  },
  {
   "cell_type": "code",
   "execution_count": null,
   "metadata": {
    "tags": []
   },
   "outputs": [
    {
     "name": "stdout",
     "output_type": "stream",
     "text": [
      "Retrieving notices: ...working... done\n",
      "Collecting package metadata (current_repodata.json): \\ WARNING conda.models.version:get_matcher(546): Using .* with relational operator is superfluous and deprecated and will be removed in a future version of conda. Your spec was 1.7.1.*, but conda is ignoring the .* and treating it as 1.7.1\n",
      "done\n",
      "Solving environment: / \n",
      "The environment is inconsistent, please check the package plan carefully\n",
      "The following packages are causing the inconsistency:\n",
      "\n",
      "  - conda-forge/noarch::bleach==6.1.0=pyhd8ed1ab_0\n",
      "  - pytorch/linux-64::torch-model-archiver==0.8.2=py310_0\n",
      "  - pytorch/linux-64::torch-workflow-archiver==0.2.11=py310_0\n",
      "  - pytorch/linux-64::torchserve==0.8.2=py310_0\n",
      "  - conda-forge/linux-64::contourpy==1.1.1=py310hd41b1e2_1\n",
      "  - conda-forge/noarch::imageio==2.31.5=pyh8c1a49c_0\n",
      "  - conda-forge/linux-64::onnx==1.13.1=py310ha3deec4_2\n",
      "  - conda-forge/linux-64::scipy==1.11.3=py310hb13e2d6_1\n",
      "  - conda-forge/noarch::bokeh==3.3.0=pyhd8ed1ab_0\n",
      "  - conda-forge/noarch::ipykernel==6.26.0=pyhf8b6a83_0\n",
      "  - conda-forge/linux-64::matplotlib-base==3.8.0=py310h62c0568_2\n",
      "  - conda-forge/noarch::nbconvert-core==7.9.2=pyhd8ed1ab_0\n",
      "  - conda-forge/noarch::patsy==0.5.3=pyhd8ed1ab_0\n",
      "  - conda-forge/noarch::jupyter_server==2.9.1=pyhd8ed1ab_0\n",
      "  - conda-forge/noarch::seaborn-base==0.13.0=pyhd8ed1ab_0\n",
      "  - conda-forge/linux-64::statsmodels==0.14.0=py310h1f7b6fc_2\n",
      "  - conda-forge/noarch::jupyter-lsp==2.2.0=pyhd8ed1ab_0\n",
      "  - conda-forge/noarch::jupyterlab_server==2.25.0=pyhd8ed1ab_0\n",
      "  - conda-forge/noarch::notebook-shim==0.2.3=pyhd8ed1ab_0\n",
      "  - conda-forge/noarch::seaborn==0.13.0=hd8ed1ab_0\n",
      "  - conda-forge/noarch::jupyterlab==4.0.7=pyhd8ed1ab_0\n",
      "  - conda-forge/noarch::notebook==7.0.6=pyhd8ed1ab_0\n",
      "  - https://aws-ml-conda-ec2.s3.us-west-2.amazonaws.com/linux-64::pytorch==2.0.1=aws_py3.10_cuda11.8_cudnn8.7.0_0\n",
      "  - pytorch/noarch::captum==0.6.0=0\n",
      "  - https://aws-ml-conda-ec2.s3.us-west-2.amazonaws.com/linux-64::torchaudio==2.0.2=py310_cu118\n",
      "  - https://aws-ml-conda-ec2.s3.us-west-2.amazonaws.com/linux-64::torchdata==0.6.1=py310\n",
      "  - https://aws-ml-conda-ec2.s3.us-west-2.amazonaws.com/linux-64::torchtriton==2.0.0=py310\n",
      "  - https://aws-ml-conda-ec2.s3.us-west-2.amazonaws.com/linux-64::torchvision==0.15.2=py310_cu118\n",
      "  - https://aws-ml-conda-ec2.s3.us-west-2.amazonaws.com/linux-64::torchtext==0.15.2=py310\n",
      "failed with initial frozen solve. Retrying with flexible solve.\n",
      "Solving environment: done\n"
     ]
    }
   ],
   "source": [
    "!conda install -y holoviews"
   ]
  },
  {
   "cell_type": "code",
   "execution_count": null,
   "metadata": {
    "tags": []
   },
   "outputs": [],
   "source": [
    "import seaborn as sns\n",
    "import holoviews as hv\n",
    "from holoviews import opts\n",
    "hv.extension('bokeh')"
   ]
  },
  {
   "cell_type": "code",
   "execution_count": 5,
   "metadata": {},
   "outputs": [
    {
     "name": "stderr",
     "output_type": "stream",
     "text": [
      "train_instance_count has been renamed in sagemaker>=2.\n",
      "See: https://sagemaker.readthedocs.io/en/stable/v2.html for details.\n",
      "train_instance_type has been renamed in sagemaker>=2.\n",
      "See: https://sagemaker.readthedocs.io/en/stable/v2.html for details.\n"
     ]
    },
    {
     "name": "stdout",
     "output_type": "stream",
     "text": [
      "sagemaker.config INFO - Not applying SDK defaults from location: /etc/xdg/sagemaker/config.yaml\n",
      "sagemaker.config INFO - Not applying SDK defaults from location: /home/ec2-user/SageMaker/.xdg/config/sagemaker/config.yaml\n"
     ]
    }
   ],
   "source": [
    "prefix='randomCut'\n",
    "rcf = RandaomCutForest(role=sm_role,\n",
    "                      train_instance_count=1,\n",
    "                      train_instance_type='ml.m4.xlarge',\n",
    "                      data_location='s3://{s3_bucket}/{prefix}/',\n",
    "                      output_path='s3://{s3_bucket}/{prefix}/output')"
   ]
  },
  {
   "cell_type": "code",
   "execution_count": 6,
   "metadata": {},
   "outputs": [
    {
     "ename": "NameError",
     "evalue": "name 'train_data' is not defined",
     "output_type": "error",
     "traceback": [
      "\u001b[0;31m---------------------------------------------------------------------------\u001b[0m",
      "\u001b[0;31mNameError\u001b[0m                                 Traceback (most recent call last)",
      "Cell \u001b[0;32mIn[6], line 1\u001b[0m\n\u001b[0;32m----> 1\u001b[0m rcf\u001b[38;5;241m.\u001b[39mfit(rcf\u001b[38;5;241m.\u001b[39mrecord_set(\u001b[43mtrain_data\u001b[49m))\n",
      "\u001b[0;31mNameError\u001b[0m: name 'train_data' is not defined"
     ]
    }
   ],
   "source": [
    "rcf.fit(rcf.record_set(train_data))"
   ]
  },
  {
   "cell_type": "code",
   "execution_count": null,
   "metadata": {},
   "outputs": [],
   "source": []
  }
 ],
 "metadata": {
  "kernelspec": {
   "display_name": "conda_pytorch_p310",
   "language": "python",
   "name": "conda_pytorch_p310"
  },
  "language_info": {
   "codemirror_mode": {
    "name": "ipython",
    "version": 3
   },
   "file_extension": ".py",
   "mimetype": "text/x-python",
   "name": "python",
   "nbconvert_exporter": "python",
   "pygments_lexer": "ipython3",
   "version": "3.10.13"
  },
  "vscode": {
   "interpreter": {
    "hash": "e2257b1c3513dc4782645ad49f694a4b0012bebbbbc3534a56d350db8e4f89a2"
   }
  }
 },
 "nbformat": 4,
 "nbformat_minor": 4
}
