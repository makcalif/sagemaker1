{
 "cells": [
  {
   "cell_type": "code",
   "execution_count": 1,
   "id": "5aa0d7ad",
   "metadata": {
    "tags": []
   },
   "outputs": [
    {
     "name": "stdout",
     "output_type": "stream",
     "text": [
      "sagemaker.config INFO - Not applying SDK defaults from location: /etc/xdg/sagemaker/config.yaml\n",
      "sagemaker.config INFO - Not applying SDK defaults from location: /home/ec2-user/.config/sagemaker/config.yaml\n",
      "sagemaker.config INFO - Not applying SDK defaults from location: /etc/xdg/sagemaker/config.yaml\n",
      "sagemaker.config INFO - Not applying SDK defaults from location: /home/ec2-user/.config/sagemaker/config.yaml\n",
      "sagemaker.config INFO - Not applying SDK defaults from location: /etc/xdg/sagemaker/config.yaml\n",
      "sagemaker.config INFO - Not applying SDK defaults from location: /home/ec2-user/.config/sagemaker/config.yaml\n"
     ]
    }
   ],
   "source": [
    "import sagemaker, boto3, json\n",
    "from sagemaker import get_execution_role\n",
    "\n",
    "aws_role = get_execution_role()\n",
    "aws_region = boto3.Session().region_name\n",
    "sess = sagemaker.Session()"
   ]
  },
  {
   "cell_type": "code",
   "execution_count": 2,
   "id": "505100c8-b39b-47c1-aa39-560595c408cf",
   "metadata": {
    "tags": []
   },
   "outputs": [
    {
     "name": "stdout",
     "output_type": "stream",
     "text": [
      "sagemaker.config INFO - Not applying SDK defaults from location: /etc/xdg/sagemaker/config.yaml\n",
      "sagemaker.config INFO - Not applying SDK defaults from location: /home/ec2-user/.config/sagemaker/config.yaml\n"
     ]
    }
   ],
   "source": [
    "import sagemaker\n",
    "import boto3\n",
    "# from time import gmtime, strftime\n",
    "from datetime import datetime\n",
    "\n",
    "boto_session = boto3.session.Session()\n",
    "sm_session = sagemaker.session.Session()\n",
    "region = boto_session.region_name"
   ]
  },
  {
   "cell_type": "code",
   "execution_count": 3,
   "id": "18a95891-bf23-4bc1-9dee-a2e8d19ca611",
   "metadata": {
    "tags": []
   },
   "outputs": [
    {
     "name": "stdout",
     "output_type": "stream",
     "text": [
      "sagemaker.config INFO - Not applying SDK defaults from location: /etc/xdg/sagemaker/config.yaml\n",
      "sagemaker.config INFO - Not applying SDK defaults from location: /home/ec2-user/.config/sagemaker/config.yaml\n",
      "Using Role: arn:aws:iam::287758680514:role/service-role/AmazonSageMaker-ExecutionRole-20231027T004238\n",
      "Will use bucket 'sagemaker-us-east-1-287758680514' for storing all resources related to this notebook\n"
     ]
    }
   ],
   "source": [
    "sm_role = sagemaker.get_execution_role()\n",
    "# Feel free to use your own role here\n",
    "# sm_role = \"arn:aws:iam::123456789012:role/sagemaker-custom-role\"\n",
    "print(f\"Using Role: {sm_role}\")\n",
    "s3_bucket = sm_session.default_bucket()\n",
    "print(f\"Will use bucket '{s3_bucket}' for storing all resources related to this notebook\")"
   ]
  },
  {
   "cell_type": "code",
   "execution_count": 18,
   "id": "e050544c-d534-4790-989a-c4d592dd3b8c",
   "metadata": {
    "tags": []
   },
   "outputs": [],
   "source": [
    "# from sagemaker import image_uris\n",
    "#, model_uris, script_uris, hyperparameters\n",
    "# from sagemaker.model import Model\n",
    "# from sagemaker.predictor import Predictor\n",
    "from sagemaker.utils import name_from_base\n",
    "\n",
    "# model_id, model_version = ('mxnet-semseg-fcn-resnet101-coco', '*')\n",
    "# endpoint_name = name_from_base(f\"jumpstart-example-infer-{model_id}\")\n",
    "\n",
    "endpoint_name = 'jumpstart-example-infer-mxnet-semseg-fc-2023-10-28-23-35-59-368'"
   ]
  },
  {
   "cell_type": "code",
   "execution_count": 4,
   "id": "12b61fb4-e572-4ab3-bd97-0c74f3c80aa3",
   "metadata": {
    "tags": []
   },
   "outputs": [],
   "source": [
    "bucket_prefix = \"DEMO-async-inference\"\n",
    "resource_name = \"AsyncInferenceDemo-{}-{}\""
   ]
  },
  {
   "cell_type": "code",
   "execution_count": 20,
   "id": "352da965-69c2-460f-a566-38e774c5776a",
   "metadata": {
    "tags": []
   },
   "outputs": [],
   "source": [
    "from sagemaker import image_uris"
   ]
  },
  {
   "cell_type": "code",
   "execution_count": 21,
   "id": "f5a908d9-f9e6-4f00-a1cd-0444bed5cea6",
   "metadata": {
    "tags": []
   },
   "outputs": [],
   "source": [
    "model_name = 'jumpstart-example-infer-mxnet-semseg-fc-2023-10-28-03-29-08-394'"
   ]
  },
  {
   "cell_type": "code",
   "execution_count": 22,
   "id": "91573e76-3271-486b-b650-1b789bf3e2ef",
   "metadata": {
    "tags": []
   },
   "outputs": [],
   "source": [
    "\n",
    "# async_predictor = model_predictor.deploy(\n",
    "#     async_inference_config=async_config,\n",
    "#     instance_type=\"ml.m5.xlarge\",\n",
    "#     initial_instance_count=1,\n",
    "#     endpoint_name=endpoint_name,\n",
    "# )"
   ]
  },
  {
   "cell_type": "code",
   "execution_count": 23,
   "id": "7aca8177-6835-4ba7-b038-4b3ea38d859c",
   "metadata": {
    "tags": []
   },
   "outputs": [],
   "source": [
    "endpoint_name = 'jumpstart-example-infer-mxnet-semseg-fc-2023-10-28-23-35-59-368'"
   ]
  },
  {
   "cell_type": "code",
   "execution_count": 24,
   "id": "79ec9938-9fe3-4486-b5c5-20b1af1fd226",
   "metadata": {
    "tags": []
   },
   "outputs": [],
   "source": [
    "jumpstart_assets_s3_bucket = f\"jumpstart-cache-prod-{aws_region}\"\n",
    "pedestrian_img_key_prefix = \"inference-notebook-assets\"\n",
    "pedestrian_img = \"img_pedestrian.png\"\n",
    "\n",
    "boto3.client(\"s3\").download_file(\n",
    "    jumpstart_assets_s3_bucket, f\"{pedestrian_img_key_prefix}/{pedestrian_img}\", pedestrian_img\n",
    ")"
   ]
  },
  {
   "cell_type": "code",
   "execution_count": 24,
   "id": "a1bcda6d-d089-4939-bf0b-c1d52707afcc",
   "metadata": {
    "tags": []
   },
   "outputs": [],
   "source": [
    "import json\n",
    "\n",
    "\n",
    "def query(model_predictor, image_file_name):\n",
    "    \"\"\"Query the model predictor.\"\"\"\n",
    "\n",
    "    with open(image_file_name, \"rb\") as file:\n",
    "        input_img_rb = file.read()\n",
    "\n",
    "    query_response = model_predictor.predict(\n",
    "        input_img_rb,\n",
    "        {\n",
    "            \"ContentType\": \"application/x-image\",\n",
    "            \"Accept\": \"application/json;verbose\",\n",
    "        },\n",
    "    )\n",
    "    return query_response\n",
    "\n",
    "\n",
    "def parse_response(query_response):\n",
    "    \"\"\"Parse response and return predictions as well as the set of all labels and object labels present in the image.\"\"\"\n",
    "    response_dict = json.loads(query_response)\n",
    "    return response_dict[\"predictions\"], response_dict[\"labels\"], response_dict[\"image_labels\"]\n"
   ]
  },
  {
   "cell_type": "markdown",
   "id": "7ba8f871-48c4-44da-8d8f-5b315e2038c1",
   "metadata": {},
   "source": [
    "## testing async predictor for semantec segmentation Nov 3"
   ]
  },
  {
   "cell_type": "code",
   "execution_count": 6,
   "id": "774c5e90-a378-43b4-8d12-6ebdfc7d23e6",
   "metadata": {
    "tags": []
   },
   "outputs": [],
   "source": [
    "jumpstart_assets_s3_bucket = \"datascience-sagemaker-mk\"\n",
    "pedestrian_img_key_prefix = \"image-processing\"\n",
    "pedestrian_img = \"profilePic.jpg\"\n",
    "\n",
    "input_img_s3 =  f\"s3://{jumpstart_assets_s3_bucket}/{pedestrian_img_key_prefix}/{pedestrian_img}\"\n",
    "\n",
    "input_img_s3 = \"https://sagemaker-us-east-1-287758680514.s3.amazonaws.com/DEMO-async-inference/input/img_pedestrian.png\""
   ]
  },
  {
   "cell_type": "code",
   "execution_count": 9,
   "id": "e6ea4b60-4fb7-465a-af39-bbb5dfa87b95",
   "metadata": {
    "tags": []
   },
   "outputs": [],
   "source": [
    "sm_runtime = boto_session.client(\"sagemaker-runtime\")\n",
    "\n",
    "# image_file_name = \"img_pedestrian.png\"\n",
    "\n",
    "# with open(image_file_name, \"rb\") as file:\n",
    "#         input_img_rb = file.read()\n",
    "\n",
    "        \n",
    "# sm_runtime.invoke_endpoint_async(EndpointName='jumpstart-example-infer-mxnet-semseg-fc-2023-10-28-23-35-59-368', Body=input_img_rb,\n",
    "#                           ContentType=\"application/x-image\",\n",
    "#                            Accept=\"application/json;verbose\"\n",
    "#         )\n",
    "# async_resp = sm_runtime.invoke_endpoint_async(EndpointName='jumpstart-example-infer-mxnet-semseg-fc-2023-10-28-23-35-59-368', \n",
    "#                                  InputLocation=input_img_s3\n",
    "#         )\n",
    "\n",
    "async_resp = sm_runtime.invoke_endpoint_async(EndpointName='semantec-segmentation-async-with-sns', \n",
    "                                 InputLocation=input_img_s3,\n",
    "                                              ContentType=\"application/x-image\",\n",
    "                                              Accept= \"application/json;verbose\"\n",
    "        )"
   ]
  },
  {
   "cell_type": "code",
   "execution_count": 10,
   "id": "522cc827-2ca6-4a32-bcc6-46d061279582",
   "metadata": {
    "tags": []
   },
   "outputs": [
    {
     "data": {
      "text/plain": [
       "{'ResponseMetadata': {'RequestId': '63e21c9d-3bc4-46cf-8fc1-ecca5681f891',\n",
       "  'HTTPStatusCode': 202,\n",
       "  'HTTPHeaders': {'x-amzn-requestid': '63e21c9d-3bc4-46cf-8fc1-ecca5681f891',\n",
       "   'x-amzn-sagemaker-outputlocation': 's3://sagemaker-us-east-1-287758680514/DEMO-async-inference/output/91d668cf-5f4a-4cdf-9e6f-1498610b0ab7.out',\n",
       "   'x-amzn-sagemaker-failurelocation': 's3://sagemaker-us-east-1-287758680514/DEMO-async-inference/failure/91d668cf-5f4a-4cdf-9e6f-1498610b0ab7-error.out',\n",
       "   'date': 'Fri, 03 Nov 2023 22:51:30 GMT',\n",
       "   'content-type': 'application/json',\n",
       "   'content-length': '54',\n",
       "   'connection': 'keep-alive'},\n",
       "  'RetryAttempts': 0},\n",
       " 'OutputLocation': 's3://sagemaker-us-east-1-287758680514/DEMO-async-inference/output/91d668cf-5f4a-4cdf-9e6f-1498610b0ab7.out',\n",
       " 'FailureLocation': 's3://sagemaker-us-east-1-287758680514/DEMO-async-inference/failure/91d668cf-5f4a-4cdf-9e6f-1498610b0ab7-error.out',\n",
       " 'InferenceId': 'f8a9713e-377d-4eff-96db-19e557d850cc'}"
      ]
     },
     "execution_count": 10,
     "metadata": {},
     "output_type": "execute_result"
    }
   ],
   "source": [
    "async_resp"
   ]
  },
  {
   "cell_type": "code",
   "execution_count": 25,
   "id": "c218929e-4df2-44e5-97f8-6281026402d4",
   "metadata": {
    "tags": []
   },
   "outputs": [
    {
     "data": {
      "text/plain": [
       "{'ResponseMetadata': {'RequestId': '26d7f340-268e-43be-85c2-261302fac3e7',\n",
       "  'HTTPStatusCode': 202,\n",
       "  'HTTPHeaders': {'x-amzn-requestid': '26d7f340-268e-43be-85c2-261302fac3e7',\n",
       "   'x-amzn-sagemaker-outputlocation': 's3://sagemaker-us-east-1-287758680514/DEMO-async-inference/output/f93e008d-469a-4ee0-8944-2fb2bc8858c7.out',\n",
       "   'x-amzn-sagemaker-failurelocation': 's3://sagemaker-us-east-1-287758680514/async-endpoint-failures/jumpstart-example-infer-mxnet-semseg-fc-2023-10-1698536633-a322/f93e008d-469a-4ee0-8944-2fb2bc8858c7-error.out',\n",
       "   'date': 'Mon, 30 Oct 2023 05:48:17 GMT',\n",
       "   'content-type': 'application/json',\n",
       "   'content-length': '54',\n",
       "   'connection': 'keep-alive'},\n",
       "  'RetryAttempts': 0},\n",
       " 'OutputLocation': 's3://sagemaker-us-east-1-287758680514/DEMO-async-inference/output/f93e008d-469a-4ee0-8944-2fb2bc8858c7.out',\n",
       " 'FailureLocation': 's3://sagemaker-us-east-1-287758680514/async-endpoint-failures/jumpstart-example-infer-mxnet-semseg-fc-2023-10-1698536633-a322/f93e008d-469a-4ee0-8944-2fb2bc8858c7-error.out',\n",
       " 'InferenceId': 'efc51291-f975-4e96-a45d-27483d58d1ef'}"
      ]
     },
     "execution_count": 25,
     "metadata": {},
     "output_type": "execute_result"
    }
   ],
   "source": [
    "async_resp"
   ]
  },
  {
   "cell_type": "code",
   "execution_count": 16,
   "id": "b9c46d57-b80a-459b-89a8-23fe033c94c6",
   "metadata": {
    "tags": []
   },
   "outputs": [
    {
     "ename": "NameError",
     "evalue": "name 'base_model_predictor' is not defined",
     "output_type": "error",
     "traceback": [
      "\u001b[0;31m---------------------------------------------------------------------------\u001b[0m",
      "\u001b[0;31mNameError\u001b[0m                                 Traceback (most recent call last)",
      "Cell \u001b[0;32mIn[16], line 1\u001b[0m\n\u001b[0;32m----> 1\u001b[0m query_response \u001b[38;5;241m=\u001b[39m query(\u001b[43mbase_model_predictor\u001b[49m, pedestrian_img)\n\u001b[1;32m      3\u001b[0m predictions, labels, image_labels \u001b[38;5;241m=\u001b[39m parse_response(query_response)\n\u001b[1;32m      4\u001b[0m \u001b[38;5;28mprint\u001b[39m(\u001b[38;5;124m\"\u001b[39m\u001b[38;5;124mObjects present in the picture:\u001b[39m\u001b[38;5;124m\"\u001b[39m, image_labels)\n",
      "\u001b[0;31mNameError\u001b[0m: name 'base_model_predictor' is not defined"
     ]
    }
   ],
   "source": [
    "\n",
    "query_response = query(base_model_predictor, pedestrian_img)\n",
    "\n",
    "predictions, labels, image_labels = parse_response(query_response)\n",
    "print(\"Objects present in the picture:\", image_labels)"
   ]
  },
  {
   "cell_type": "markdown",
   "id": "19180904-a98f-4662-841b-ba155e284691",
   "metadata": {},
   "source": [
    "## trying with sync end pt"
   ]
  },
  {
   "cell_type": "code",
   "execution_count": 6,
   "id": "f37b3f9b-543a-4392-a80e-123e0abd0259",
   "metadata": {
    "tags": []
   },
   "outputs": [],
   "source": [
    "\n",
    "\n",
    "sm_runtime = boto_session.client(\"sagemaker-runtime\")\n",
    "\n",
    "image_file_name = \"img_pedestrian.png\"\n",
    "\n",
    "with open(image_file_name, \"rb\") as file:\n",
    "        input_img_rb = file.read()\n",
    "\n",
    "        \n",
    "resp = sm_runtime.invoke_endpoint(EndpointName='semantec-segmentation-sync-mxnet-semseg-2023-10-30-02-54-44-887', Body=input_img_rb,\n",
    "                          ContentType=\"application/x-image\",\n",
    "                           Accept=\"application/json;verbose\"\n",
    "        )\n"
   ]
  },
  {
   "cell_type": "code",
   "execution_count": 15,
   "id": "44855ce7-4abb-4654-886f-bf6224de967e",
   "metadata": {
    "tags": []
   },
   "outputs": [
    {
     "ename": "NameError",
     "evalue": "name 'resp' is not defined",
     "output_type": "error",
     "traceback": [
      "\u001b[0;31m---------------------------------------------------------------------------\u001b[0m",
      "\u001b[0;31mNameError\u001b[0m                                 Traceback (most recent call last)",
      "Cell \u001b[0;32mIn[15], line 1\u001b[0m\n\u001b[0;32m----> 1\u001b[0m \u001b[43mresp\u001b[49m\n",
      "\u001b[0;31mNameError\u001b[0m: name 'resp' is not defined"
     ]
    }
   ],
   "source": [
    "resp"
   ]
  },
  {
   "cell_type": "raw",
   "id": "e5bf3cf4-680d-428f-9886-a19976b1a896",
   "metadata": {},
   "source": [
    "resp['Body']"
   ]
  },
  {
   "cell_type": "code",
   "execution_count": 12,
   "id": "37cf9357-ad6a-470e-8c08-68b54934c23d",
   "metadata": {
    "tags": []
   },
   "outputs": [
    {
     "name": "stdout",
     "output_type": "stream",
     "text": [
      "{'RequestId': '9b880701-afae-421c-b4e8-e15dc59ca33c', 'HTTPStatusCode': 200, 'HTTPHeaders': {'x-amzn-requestid': '9b880701-afae-421c-b4e8-e15dc59ca33c', 'x-amzn-invoked-production-variant': 'AllTraffic', 'date': 'Mon, 30 Oct 2023 05:22:02 GMT', 'content-type': 'application/json;verbose', 'content-length': '1529426', 'connection': 'keep-alive'}, 'RetryAttempts': 0}\n",
      "application/json;verbose\n",
      "AllTraffic\n",
      "<botocore.response.StreamingBody object at 0x7f625f42ab30>\n"
     ]
    }
   ],
   "source": [
    "for keys in resp.keys():\n",
    "    print (resp[keys])"
   ]
  },
  {
   "cell_type": "code",
   "execution_count": 8,
   "id": "3975fc15-946f-49fc-8fc7-ce5628abca47",
   "metadata": {
    "tags": []
   },
   "outputs": [],
   "source": [
    "import json"
   ]
  },
  {
   "cell_type": "code",
   "execution_count": 14,
   "id": "821bed09-a8f1-4edf-b294-2947a84c890c",
   "metadata": {
    "tags": []
   },
   "outputs": [],
   "source": [
    "jsresp = json.loads(resp['Body'].read().decode(\"utf-8\"))"
   ]
  },
  {
   "cell_type": "code",
   "execution_count": 27,
   "id": "9e0f539f-9a7e-4635-a49f-dc6b1993fc6e",
   "metadata": {
    "tags": []
   },
   "outputs": [
    {
     "data": {
      "text/plain": [
       "536"
      ]
     },
     "execution_count": 27,
     "metadata": {},
     "output_type": "execute_result"
    }
   ],
   "source": [
    "len(jsresp['predictions'])"
   ]
  },
  {
   "cell_type": "code",
   "execution_count": null,
   "id": "ad5d7972-cae6-4f52-b31b-2a8cfad6472c",
   "metadata": {},
   "outputs": [],
   "source": []
  }
 ],
 "metadata": {
  "instance_type": "ml.t3.medium",
  "kernelspec": {
   "display_name": "conda_pytorch_p310",
   "language": "python",
   "name": "conda_pytorch_p310"
  },
  "language_info": {
   "codemirror_mode": {
    "name": "ipython",
    "version": 3
   },
   "file_extension": ".py",
   "mimetype": "text/x-python",
   "name": "python",
   "nbconvert_exporter": "python",
   "pygments_lexer": "ipython3",
   "version": "3.10.12"
  }
 },
 "nbformat": 4,
 "nbformat_minor": 5
}
