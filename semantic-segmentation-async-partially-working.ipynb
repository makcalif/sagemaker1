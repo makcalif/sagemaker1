{
 "cells": [
  {
   "cell_type": "code",
   "execution_count": 1,
   "id": "5aa0d7ad",
   "metadata": {
    "tags": []
   },
   "outputs": [
    {
     "name": "stdout",
     "output_type": "stream",
     "text": [
      "sagemaker.config INFO - Not applying SDK defaults from location: /etc/xdg/sagemaker/config.yaml\n",
      "sagemaker.config INFO - Not applying SDK defaults from location: /home/ec2-user/.config/sagemaker/config.yaml\n",
      "sagemaker.config INFO - Not applying SDK defaults from location: /etc/xdg/sagemaker/config.yaml\n",
      "sagemaker.config INFO - Not applying SDK defaults from location: /home/ec2-user/.config/sagemaker/config.yaml\n",
      "sagemaker.config INFO - Not applying SDK defaults from location: /etc/xdg/sagemaker/config.yaml\n",
      "sagemaker.config INFO - Not applying SDK defaults from location: /home/ec2-user/.config/sagemaker/config.yaml\n"
     ]
    }
   ],
   "source": [
    "import sagemaker, boto3, json\n",
    "from sagemaker import get_execution_role\n",
    "\n",
    "aws_role = get_execution_role()\n",
    "aws_region = boto3.Session().region_name\n",
    "sess = sagemaker.Session()"
   ]
  },
  {
   "cell_type": "code",
   "execution_count": 2,
   "id": "505100c8-b39b-47c1-aa39-560595c408cf",
   "metadata": {
    "tags": []
   },
   "outputs": [
    {
     "name": "stdout",
     "output_type": "stream",
     "text": [
      "sagemaker.config INFO - Not applying SDK defaults from location: /etc/xdg/sagemaker/config.yaml\n",
      "sagemaker.config INFO - Not applying SDK defaults from location: /home/ec2-user/.config/sagemaker/config.yaml\n"
     ]
    }
   ],
   "source": [
    "import sagemaker\n",
    "import boto3\n",
    "# from time import gmtime, strftime\n",
    "from datetime import datetime\n",
    "\n",
    "boto_session = boto3.session.Session()\n",
    "sm_session = sagemaker.session.Session()\n",
    "region = boto_session.region_name"
   ]
  },
  {
   "cell_type": "code",
   "execution_count": 3,
   "id": "18a95891-bf23-4bc1-9dee-a2e8d19ca611",
   "metadata": {
    "tags": []
   },
   "outputs": [
    {
     "name": "stdout",
     "output_type": "stream",
     "text": [
      "sagemaker.config INFO - Not applying SDK defaults from location: /etc/xdg/sagemaker/config.yaml\n",
      "sagemaker.config INFO - Not applying SDK defaults from location: /home/ec2-user/.config/sagemaker/config.yaml\n",
      "Using Role: arn:aws:iam::287758680514:role/service-role/AmazonSageMaker-ExecutionRole-20231027T004238\n",
      "Will use bucket 'sagemaker-us-east-1-287758680514' for storing all resources related to this notebook\n"
     ]
    }
   ],
   "source": [
    "sm_role = sagemaker.get_execution_role()\n",
    "# Feel free to use your own role here\n",
    "# sm_role = \"arn:aws:iam::123456789012:role/sagemaker-custom-role\"\n",
    "print(f\"Using Role: {sm_role}\")\n",
    "s3_bucket = sm_session.default_bucket()\n",
    "print(f\"Will use bucket '{s3_bucket}' for storing all resources related to this notebook\")"
   ]
  },
  {
   "cell_type": "code",
   "execution_count": 4,
   "id": "12b61fb4-e572-4ab3-bd97-0c74f3c80aa3",
   "metadata": {
    "tags": []
   },
   "outputs": [],
   "source": [
    "bucket_prefix = \"DEMO-async-inference\"\n",
    "resource_name = \"AsyncInferenceDemo-{}-{}\""
   ]
  },
  {
   "cell_type": "code",
   "execution_count": 23,
   "id": "7aca8177-6835-4ba7-b038-4b3ea38d859c",
   "metadata": {
    "tags": []
   },
   "outputs": [],
   "source": [
    "endpoint_name = 'jumpstart-example-infer-mxnet-semseg-fc-2023-10-28-23-35-59-368'"
   ]
  },
  {
   "cell_type": "code",
   "execution_count": 24,
   "id": "79ec9938-9fe3-4486-b5c5-20b1af1fd226",
   "metadata": {
    "tags": []
   },
   "outputs": [],
   "source": [
    "# jumpstart_assets_s3_bucket = f\"jumpstart-cache-prod-{aws_region}\"\n",
    "# pedestrian_img_key_prefix = \"inference-notebook-assets\"\n",
    "# pedestrian_img = \"img_pedestrian.png\"\n",
    "\n",
    "# boto3.client(\"s3\").download_file(\n",
    "#     jumpstart_assets_s3_bucket, f\"{pedestrian_img_key_prefix}/{pedestrian_img}\", pedestrian_img\n",
    "# )"
   ]
  },
  {
   "cell_type": "code",
   "execution_count": 24,
   "id": "a1bcda6d-d089-4939-bf0b-c1d52707afcc",
   "metadata": {
    "tags": []
   },
   "outputs": [],
   "source": [
    "# import json\n",
    "\n",
    "\n",
    "# def query(model_predictor, image_file_name):\n",
    "#     \"\"\"Query the model predictor.\"\"\"\n",
    "\n",
    "#     with open(image_file_name, \"rb\") as file:\n",
    "#         input_img_rb = file.read()\n",
    "\n",
    "#     query_response = model_predictor.predict(\n",
    "#         input_img_rb,\n",
    "#         {\n",
    "#             \"ContentType\": \"application/x-image\",\n",
    "#             \"Accept\": \"application/json;verbose\",\n",
    "#         },\n",
    "#     )\n",
    "#     return query_response\n",
    "\n",
    "\n",
    "# def parse_response(query_response):\n",
    "#     \"\"\"Parse response and return predictions as well as the set of all labels and object labels present in the image.\"\"\"\n",
    "#     response_dict = json.loads(query_response)\n",
    "#     return response_dict[\"predictions\"], response_dict[\"labels\"], response_dict[\"image_labels\"]\n"
   ]
  },
  {
   "cell_type": "markdown",
   "id": "7ba8f871-48c4-44da-8d8f-5b315e2038c1",
   "metadata": {},
   "source": [
    "## testing async predictor for semantec segmentation Nov 3"
   ]
  },
  {
   "cell_type": "code",
   "execution_count": 6,
   "id": "774c5e90-a378-43b4-8d12-6ebdfc7d23e6",
   "metadata": {
    "tags": []
   },
   "outputs": [],
   "source": [
    "jumpstart_assets_s3_bucket = \"datascience-sagemaker-mk\"\n",
    "pedestrian_img_key_prefix = \"image-processing\"\n",
    "pedestrian_img = \"profilePic.jpg\"\n",
    "\n",
    "input_img_s3 =  f\"s3://{jumpstart_assets_s3_bucket}/{pedestrian_img_key_prefix}/{pedestrian_img}\"\n",
    "\n",
    "input_img_s3 = \"https://sagemaker-us-east-1-287758680514.s3.amazonaws.com/DEMO-async-inference/input/img_pedestrian.png\""
   ]
  },
  {
   "cell_type": "code",
   "execution_count": 9,
   "id": "e6ea4b60-4fb7-465a-af39-bbb5dfa87b95",
   "metadata": {
    "tags": []
   },
   "outputs": [],
   "source": [
    "sm_runtime = boto_session.client(\"sagemaker-runtime\")\n",
    "\n",
    "async_resp = sm_runtime.invoke_endpoint_async(EndpointName='semantec-segmentation-async-with-sns', \n",
    "                                 InputLocation=input_img_s3,\n",
    "                                              ContentType=\"application/x-image\",\n",
    "                                              Accept= \"application/json;verbose\"\n",
    "        )"
   ]
  },
  {
   "cell_type": "code",
   "execution_count": 10,
   "id": "522cc827-2ca6-4a32-bcc6-46d061279582",
   "metadata": {
    "tags": []
   },
   "outputs": [
    {
     "data": {
      "text/plain": [
       "{'ResponseMetadata': {'RequestId': '63e21c9d-3bc4-46cf-8fc1-ecca5681f891',\n",
       "  'HTTPStatusCode': 202,\n",
       "  'HTTPHeaders': {'x-amzn-requestid': '63e21c9d-3bc4-46cf-8fc1-ecca5681f891',\n",
       "   'x-amzn-sagemaker-outputlocation': 's3://sagemaker-us-east-1-287758680514/DEMO-async-inference/output/91d668cf-5f4a-4cdf-9e6f-1498610b0ab7.out',\n",
       "   'x-amzn-sagemaker-failurelocation': 's3://sagemaker-us-east-1-287758680514/DEMO-async-inference/failure/91d668cf-5f4a-4cdf-9e6f-1498610b0ab7-error.out',\n",
       "   'date': 'Fri, 03 Nov 2023 22:51:30 GMT',\n",
       "   'content-type': 'application/json',\n",
       "   'content-length': '54',\n",
       "   'connection': 'keep-alive'},\n",
       "  'RetryAttempts': 0},\n",
       " 'OutputLocation': 's3://sagemaker-us-east-1-287758680514/DEMO-async-inference/output/91d668cf-5f4a-4cdf-9e6f-1498610b0ab7.out',\n",
       " 'FailureLocation': 's3://sagemaker-us-east-1-287758680514/DEMO-async-inference/failure/91d668cf-5f4a-4cdf-9e6f-1498610b0ab7-error.out',\n",
       " 'InferenceId': 'f8a9713e-377d-4eff-96db-19e557d850cc'}"
      ]
     },
     "execution_count": 10,
     "metadata": {},
     "output_type": "execute_result"
    }
   ],
   "source": [
    "async_resp"
   ]
  },
  {
   "cell_type": "code",
   "execution_count": 25,
   "id": "c218929e-4df2-44e5-97f8-6281026402d4",
   "metadata": {
    "tags": []
   },
   "outputs": [
    {
     "data": {
      "text/plain": [
       "{'ResponseMetadata': {'RequestId': '26d7f340-268e-43be-85c2-261302fac3e7',\n",
       "  'HTTPStatusCode': 202,\n",
       "  'HTTPHeaders': {'x-amzn-requestid': '26d7f340-268e-43be-85c2-261302fac3e7',\n",
       "   'x-amzn-sagemaker-outputlocation': 's3://sagemaker-us-east-1-287758680514/DEMO-async-inference/output/f93e008d-469a-4ee0-8944-2fb2bc8858c7.out',\n",
       "   'x-amzn-sagemaker-failurelocation': 's3://sagemaker-us-east-1-287758680514/async-endpoint-failures/jumpstart-example-infer-mxnet-semseg-fc-2023-10-1698536633-a322/f93e008d-469a-4ee0-8944-2fb2bc8858c7-error.out',\n",
       "   'date': 'Mon, 30 Oct 2023 05:48:17 GMT',\n",
       "   'content-type': 'application/json',\n",
       "   'content-length': '54',\n",
       "   'connection': 'keep-alive'},\n",
       "  'RetryAttempts': 0},\n",
       " 'OutputLocation': 's3://sagemaker-us-east-1-287758680514/DEMO-async-inference/output/f93e008d-469a-4ee0-8944-2fb2bc8858c7.out',\n",
       " 'FailureLocation': 's3://sagemaker-us-east-1-287758680514/async-endpoint-failures/jumpstart-example-infer-mxnet-semseg-fc-2023-10-1698536633-a322/f93e008d-469a-4ee0-8944-2fb2bc8858c7-error.out',\n",
       " 'InferenceId': 'efc51291-f975-4e96-a45d-27483d58d1ef'}"
      ]
     },
     "execution_count": 25,
     "metadata": {},
     "output_type": "execute_result"
    }
   ],
   "source": [
    "async_resp"
   ]
  }
 ],
 "metadata": {
  "instance_type": "ml.t3.medium",
  "kernelspec": {
   "display_name": "conda_pytorch_p310",
   "language": "python",
   "name": "conda_pytorch_p310"
  },
  "language_info": {
   "codemirror_mode": {
    "name": "ipython",
    "version": 3
   },
   "file_extension": ".py",
   "mimetype": "text/x-python",
   "name": "python",
   "nbconvert_exporter": "python",
   "pygments_lexer": "ipython3",
   "version": "3.10.12"
  }
 },
 "nbformat": 4,
 "nbformat_minor": 5
}
