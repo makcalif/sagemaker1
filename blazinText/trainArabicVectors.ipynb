{
 "cells": [
  {
   "cell_type": "code",
   "execution_count": 1,
   "id": "0e7f97df-e0c5-48e5-a554-022b999d5d63",
   "metadata": {
    "tags": []
   },
   "outputs": [],
   "source": [
    "arabic_text = '''المعلمة,مرحباً يا أطفال، ماذا تحبون أن تأكلوا للغداء؟'\n",
    "الطالب 1,أنا أحب البيتزا!\n",
    "المعلمة,جيد، وأنت يا سارة؟\n",
    "سارة,أنا أحب الأرز والدجاج.\n",
    "المعلمة,هل تحبون الفواكه؟\n",
    "الطالب 2,نعم، أحب التفاح.\n",
    "المعلمة,وأنا أحب الموز. الفواكه صحية لنا.'''"
   ]
  },
  {
   "cell_type": "code",
   "execution_count": 2,
   "id": "c9b0fe2d-2b65-476d-8f5e-17bb91451196",
   "metadata": {
    "tags": []
   },
   "outputs": [
    {
     "data": {
      "text/plain": [
       "\"المعلمة,مرحباً يا أطفال، ماذا تحبون أن تأكلوا للغداء؟'\\nالطالب 1,أنا أحب البيتزا!\\nالمعلمة,جيد، وأنت يا سارة؟\\nسارة,أنا أحب الأرز والدجاج.\\nالمعلمة,هل تحبون الفواكه؟\\nالطالب 2,نعم، أحب التفاح.\\nالمعلمة,وأنا أحب الموز. الفواكه صحية لنا.\""
      ]
     },
     "execution_count": 2,
     "metadata": {},
     "output_type": "execute_result"
    }
   ],
   "source": [
    "arabic_text"
   ]
  },
  {
   "cell_type": "code",
   "execution_count": 3,
   "id": "a20aa95c-64fa-4b76-aea0-e4ab483a3833",
   "metadata": {
    "tags": []
   },
   "outputs": [
    {
     "name": "stdout",
     "output_type": "stream",
     "text": [
      "sagemaker.config INFO - Not applying SDK defaults from location: /etc/xdg/sagemaker/config.yaml\n",
      "sagemaker.config INFO - Not applying SDK defaults from location: /home/ec2-user/.config/sagemaker/config.yaml\n"
     ]
    }
   ],
   "source": [
    "import sagemaker\n",
    "from sagemaker import get_execution_role\n",
    "import boto3\n",
    "import json"
   ]
  },
  {
   "cell_type": "code",
   "execution_count": 15,
   "id": "f804fab8-47c9-4a5c-ba83-75de3ed4ed38",
   "metadata": {
    "tags": []
   },
   "outputs": [
    {
     "name": "stdout",
     "output_type": "stream",
     "text": [
      "sagemaker.config INFO - Not applying SDK defaults from location: /etc/xdg/sagemaker/config.yaml\n",
      "sagemaker.config INFO - Not applying SDK defaults from location: /home/ec2-user/.config/sagemaker/config.yaml\n",
      "sagemaker.config INFO - Not applying SDK defaults from location: /etc/xdg/sagemaker/config.yaml\n",
      "sagemaker.config INFO - Not applying SDK defaults from location: /home/ec2-user/.config/sagemaker/config.yaml\n",
      "sagemaker.config INFO - Not applying SDK defaults from location: /etc/xdg/sagemaker/config.yaml\n",
      "sagemaker.config INFO - Not applying SDK defaults from location: /home/ec2-user/.config/sagemaker/config.yaml\n",
      "Using Role: arn:aws:iam::287758680514:role/service-role/AmazonSageMaker-ExecutionRole-20231027T004238\n"
     ]
    },
    {
     "data": {
      "text/plain": [
       "'sagemaker-us-east-1-287758680514'"
      ]
     },
     "execution_count": 15,
     "metadata": {},
     "output_type": "execute_result"
    }
   ],
   "source": [
    "aws_role = get_execution_role()\n",
    "\n",
    "\n",
    "sm_role = sagemaker.get_execution_role()\n",
    "\n",
    "aws_region = boto3.Session().region_name\n",
    "sm_session = sagemaker.Session()\n",
    "\n",
    "print(f\"Using Role: {sm_role}\")\n",
    "s3_bucket = sm_session.default_bucket()\n",
    "s3_bucket"
   ]
  },
  {
   "cell_type": "code",
   "execution_count": 16,
   "id": "0d1c7250-4f70-440e-bd92-6c57a282596d",
   "metadata": {
    "tags": []
   },
   "outputs": [
    {
     "data": {
      "text/plain": [
       "'sagemaker-us-east-1-287758680514'"
      ]
     },
     "execution_count": 16,
     "metadata": {},
     "output_type": "execute_result"
    }
   ],
   "source": [
    "s3_bucket"
   ]
  },
  {
   "cell_type": "code",
   "execution_count": 6,
   "id": "2f52db96-6932-4355-a0ae-f17be5bc324f",
   "metadata": {
    "tags": []
   },
   "outputs": [
    {
     "name": "stderr",
     "output_type": "stream",
     "text": [
      "The method get_image_uri has been renamed in sagemaker>=2.\n",
      "See: https://sagemaker.readthedocs.io/en/stable/v2.html for details.\n",
      "Defaulting to the only supported framework/algorithm version: 1. Ignoring framework/algorithm version: latest.\n"
     ]
    }
   ],
   "source": [
    "container = sagemaker.amazon.amazon_estimator.get_image_uri(aws_region, \"blazingtext\", \"latest\")"
   ]
  },
  {
   "cell_type": "code",
   "execution_count": 9,
   "id": "d46aee01-dbfc-4a19-a783-53c18e4ebfca",
   "metadata": {
    "tags": []
   },
   "outputs": [
    {
     "name": "stdout",
     "output_type": "stream",
     "text": [
      "Using SageMaker BlazingText container: 811284229777.dkr.ecr.us-east-1.amazonaws.com/blazingtext:1 (us-east-1)\n"
     ]
    }
   ],
   "source": [
    "print(f\"Using SageMaker BlazingText container: {container} ({aws_region})\")"
   ]
  },
  {
   "cell_type": "code",
   "execution_count": 25,
   "id": "ed62f48b-6b72-42d8-9666-5d75c2c63987",
   "metadata": {
    "tags": []
   },
   "outputs": [
    {
     "name": "stdout",
     "output_type": "stream",
     "text": [
      "../sagemaker1/blazinText/text8\n"
     ]
    }
   ],
   "source": [
    "!ls ../sagemaker1/blazinText/text8"
   ]
  },
  {
   "cell_type": "code",
   "execution_count": 26,
   "id": "e71f7bb9-2138-4007-a565-4b16f34b2bda",
   "metadata": {
    "tags": []
   },
   "outputs": [],
   "source": [
    "s3_client = boto3.client(\"s3\")\n",
    "\n",
    "data_bucket = (\n",
    "    f\"sagemaker-example-files-prod-{aws_region}\"  # Replace with the bucket where your data is located\n",
    ")\n",
    "data_prefix = \"datasets/text/text8/text8\"\n",
    "\n",
    "output_bucket = s3_bucket\n",
    "output_prefix = \"blazingText\"\n",
    "# s3_client.download_file(data_bucket, data_prefix, \"text8\")\n",
    "s3_client.upload_file(\"../sagemaker1/blazinText/text8\", output_bucket, output_prefix + \"/train\")\n",
    "\n",
    "s3_train_data = f\"s3://{output_bucket}/{output_prefix}/train\""
   ]
  },
  {
   "cell_type": "code",
   "execution_count": 11,
   "id": "6ef6526f-24e0-41b2-b8d5-44ce4c6d3a83",
   "metadata": {
    "tags": []
   },
   "outputs": [
    {
     "ename": "NameError",
     "evalue": "name 's3_output_location' is not defined",
     "output_type": "error",
     "traceback": [
      "\u001b[0;31m---------------------------------------------------------------------------\u001b[0m",
      "\u001b[0;31mNameError\u001b[0m                                 Traceback (most recent call last)",
      "Cell \u001b[0;32mIn[11], line 9\u001b[0m\n\u001b[1;32m      1\u001b[0m bt_model \u001b[38;5;241m=\u001b[39m sagemaker\u001b[38;5;241m.\u001b[39mestimator\u001b[38;5;241m.\u001b[39mEstimator(\n\u001b[1;32m      2\u001b[0m     container,\n\u001b[1;32m      3\u001b[0m     aws_role,\n\u001b[1;32m      4\u001b[0m     instance_count\u001b[38;5;241m=\u001b[39m\u001b[38;5;241m2\u001b[39m,\n\u001b[1;32m      5\u001b[0m     instance_type\u001b[38;5;241m=\u001b[39m\u001b[38;5;124m\"\u001b[39m\u001b[38;5;124mml.c4.2xlarge\u001b[39m\u001b[38;5;124m\"\u001b[39m,\n\u001b[1;32m      6\u001b[0m     train_volume_size\u001b[38;5;241m=\u001b[39m\u001b[38;5;241m5\u001b[39m,\n\u001b[1;32m      7\u001b[0m     train_max_run\u001b[38;5;241m=\u001b[39m\u001b[38;5;241m360000\u001b[39m,\n\u001b[1;32m      8\u001b[0m     input_mode\u001b[38;5;241m=\u001b[39m\u001b[38;5;124m\"\u001b[39m\u001b[38;5;124mFile\u001b[39m\u001b[38;5;124m\"\u001b[39m,\n\u001b[0;32m----> 9\u001b[0m     output_path\u001b[38;5;241m=\u001b[39m\u001b[43ms3_output_location\u001b[49m,\n\u001b[1;32m     10\u001b[0m     sagemaker_session\u001b[38;5;241m=\u001b[39msess,\n\u001b[1;32m     11\u001b[0m )\n",
      "\u001b[0;31mNameError\u001b[0m: name 's3_output_location' is not defined"
     ]
    }
   ],
   "source": [
    "bt_model = sagemaker.estimator.Estimator(\n",
    "    container,\n",
    "    aws_role,\n",
    "    instance_count=2,\n",
    "    instance_type=\"ml.c4.2xlarge\",\n",
    "    train_volume_size=5,\n",
    "    train_max_run=360000,\n",
    "    input_mode=\"File\",\n",
    "    output_path=s3_output_location,\n",
    "    sagemaker_session=sess,\n",
    ")"
   ]
  },
  {
   "cell_type": "code",
   "execution_count": null,
   "id": "88628dff-d6c9-47b5-b0c3-572e2779bf42",
   "metadata": {},
   "outputs": [],
   "source": []
  }
 ],
 "metadata": {
  "kernelspec": {
   "display_name": "conda_pytorch_p310",
   "language": "python",
   "name": "conda_pytorch_p310"
  },
  "language_info": {
   "codemirror_mode": {
    "name": "ipython",
    "version": 3
   },
   "file_extension": ".py",
   "mimetype": "text/x-python",
   "name": "python",
   "nbconvert_exporter": "python",
   "pygments_lexer": "ipython3",
   "version": "3.10.13"
  }
 },
 "nbformat": 4,
 "nbformat_minor": 5
}
