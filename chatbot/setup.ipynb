{
 "cells": [
  {
   "cell_type": "code",
   "execution_count": 1,
   "id": "71115d86-a93a-4ae1-9bf8-f1d651e5f4b3",
   "metadata": {
    "tags": []
   },
   "outputs": [],
   "source": [
    "import boto3\n",
    "import json\n",
    "import time"
   ]
  },
  {
   "cell_type": "code",
   "execution_count": 2,
   "id": "4610718e-3323-4ffd-8996-a498ac247cba",
   "metadata": {
    "tags": []
   },
   "outputs": [],
   "source": [
    "lex = boto3.client('lex-models', region_name='us-east-1')\n",
    "lambd = boto3.client('lambda', region_name='us-east-1')\n",
    "iam = boto3.client('iam', region_name='us-east-1')\n"
   ]
  },
  {
   "cell_type": "code",
   "execution_count": 3,
   "id": "27c1ee6d-0f11-47b7-a93f-fde4de3959cc",
   "metadata": {
    "tags": []
   },
   "outputs": [
    {
     "name": "stdout",
     "output_type": "stream",
     "text": [
      "sagemaker.config INFO - Not applying SDK defaults from location: /etc/xdg/sagemaker/config.yaml\n",
      "sagemaker.config INFO - Not applying SDK defaults from location: /home/ec2-user/.config/sagemaker/config.yaml\n",
      "sagemaker.config INFO - Not applying SDK defaults from location: /etc/xdg/sagemaker/config.yaml\n",
      "sagemaker.config INFO - Not applying SDK defaults from location: /home/ec2-user/.config/sagemaker/config.yaml\n",
      "sagemaker.config INFO - Not applying SDK defaults from location: /etc/xdg/sagemaker/config.yaml\n",
      "sagemaker.config INFO - Not applying SDK defaults from location: /home/ec2-user/.config/sagemaker/config.yaml\n"
     ]
    }
   ],
   "source": [
    "import sagemaker\n",
    "from sagemaker import get_execution_role\n",
    "\n",
    "aws_role = get_execution_role()\n",
    "aws_region = boto3.Session().region_name\n",
    "sess = sagemaker.Session()"
   ]
  },
  {
   "cell_type": "code",
   "execution_count": 4,
   "id": "9e79dbce-587d-4461-84b6-6c7c33377819",
   "metadata": {
    "tags": []
   },
   "outputs": [
    {
     "data": {
      "text/plain": [
       "'arn:aws:iam::287758680514:role/service-role/AmazonSageMaker-ExecutionRole-20231027T004238'"
      ]
     },
     "execution_count": 4,
     "metadata": {},
     "output_type": "execute_result"
    }
   ],
   "source": [
    "aws_role"
   ]
  },
  {
   "cell_type": "code",
   "execution_count": 5,
   "id": "fbf97a1b-b17c-42f8-a5a2-4b379d6ebed1",
   "metadata": {
    "tags": []
   },
   "outputs": [],
   "source": [
    "def wait(secs):\n",
    "    time.sleep(secs)"
   ]
  },
  {
   "cell_type": "code",
   "execution_count": 7,
   "id": "71961d40-a2bd-465a-bc67-f74e6227af9e",
   "metadata": {
    "tags": []
   },
   "outputs": [],
   "source": [
    "role_policy_document = {\n",
    "        u'Version': u'2012-10-17',\n",
    "        u'Statement': [\n",
    "            {u'Effect': u'Allow', u'Principal': {u'Service': [u'lambda.amazonaws.com']},\n",
    "             u'Action': [u'sts:AssumeRole']},\n",
    "        ]\n",
    "    }"
   ]
  },
  {
   "cell_type": "code",
   "execution_count": 8,
   "id": "3b692ab4-1bbe-49a1-8f62-ea077aef1493",
   "metadata": {
    "tags": []
   },
   "outputs": [
    {
     "data": {
      "text/plain": [
       "{'Version': '2012-10-17',\n",
       " 'Statement': [{'Effect': 'Allow',\n",
       "   'Principal': {'Service': ['lambda.amazonaws.com']},\n",
       "   'Action': ['sts:AssumeRole']}]}"
      ]
     },
     "execution_count": 8,
     "metadata": {},
     "output_type": "execute_result"
    }
   ],
   "source": [
    "role_policy_document"
   ]
  },
  {
   "cell_type": "code",
   "execution_count": 9,
   "id": "2a682f01-3fe9-4f67-a70f-732563686e36",
   "metadata": {
    "tags": []
   },
   "outputs": [
    {
     "ename": "ClientError",
     "evalue": "An error occurred (AccessDenied) when calling the CreateRole operation: User: arn:aws:sts::287758680514:assumed-role/AmazonSageMaker-ExecutionRole-20231027T004238/SageMaker is not authorized to perform: iam:CreateRole on resource: arn:aws:iam::287758680514:role/shakirachatbot-role because no identity-based policy allows the iam:CreateRole action",
     "output_type": "error",
     "traceback": [
      "\u001b[0;31m---------------------------------------------------------------------------\u001b[0m",
      "\u001b[0;31mClientError\u001b[0m                               Traceback (most recent call last)",
      "Cell \u001b[0;32mIn[9], line 1\u001b[0m\n\u001b[0;32m----> 1\u001b[0m role \u001b[38;5;241m=\u001b[39m \u001b[43miam\u001b[49m\u001b[38;5;241;43m.\u001b[39;49m\u001b[43mcreate_role\u001b[49m\u001b[43m(\u001b[49m\u001b[43mRoleName\u001b[49m\u001b[38;5;241;43m=\u001b[39;49m\u001b[38;5;124;43m'\u001b[39;49m\u001b[38;5;124;43mshakirachatbot-role\u001b[39;49m\u001b[38;5;124;43m'\u001b[39;49m\u001b[43m,\u001b[49m\u001b[43m \u001b[49m\u001b[43mAssumeRolePolicyDocument\u001b[49m\u001b[38;5;241;43m=\u001b[39;49m\u001b[43mjson\u001b[49m\u001b[38;5;241;43m.\u001b[39;49m\u001b[43mdumps\u001b[49m\u001b[43m(\u001b[49m\u001b[43mrole_policy_document\u001b[49m\u001b[43m)\u001b[49m\u001b[43m)\u001b[49m[\u001b[38;5;124m'\u001b[39m\u001b[38;5;124mRole\u001b[39m\u001b[38;5;124m'\u001b[39m]\n\u001b[1;32m      2\u001b[0m \u001b[38;5;28mprint\u001b[39m (\u001b[38;5;124m'\u001b[39m\u001b[38;5;124mCreated custom role shakirachatbot-role\u001b[39m\u001b[38;5;124m'\u001b[39m)\n\u001b[1;32m      3\u001b[0m wait(\u001b[38;5;241m3\u001b[39m)\n",
      "File \u001b[0;32m~/anaconda3/envs/pytorch_p310/lib/python3.10/site-packages/botocore/client.py:535\u001b[0m, in \u001b[0;36mClientCreator._create_api_method.<locals>._api_call\u001b[0;34m(self, *args, **kwargs)\u001b[0m\n\u001b[1;32m    531\u001b[0m     \u001b[38;5;28;01mraise\u001b[39;00m \u001b[38;5;167;01mTypeError\u001b[39;00m(\n\u001b[1;32m    532\u001b[0m         \u001b[38;5;124mf\u001b[39m\u001b[38;5;124m\"\u001b[39m\u001b[38;5;132;01m{\u001b[39;00mpy_operation_name\u001b[38;5;132;01m}\u001b[39;00m\u001b[38;5;124m() only accepts keyword arguments.\u001b[39m\u001b[38;5;124m\"\u001b[39m\n\u001b[1;32m    533\u001b[0m     )\n\u001b[1;32m    534\u001b[0m \u001b[38;5;66;03m# The \"self\" in this scope is referring to the BaseClient.\u001b[39;00m\n\u001b[0;32m--> 535\u001b[0m \u001b[38;5;28;01mreturn\u001b[39;00m \u001b[38;5;28;43mself\u001b[39;49m\u001b[38;5;241;43m.\u001b[39;49m\u001b[43m_make_api_call\u001b[49m\u001b[43m(\u001b[49m\u001b[43moperation_name\u001b[49m\u001b[43m,\u001b[49m\u001b[43m \u001b[49m\u001b[43mkwargs\u001b[49m\u001b[43m)\u001b[49m\n",
      "File \u001b[0;32m~/anaconda3/envs/pytorch_p310/lib/python3.10/site-packages/botocore/client.py:980\u001b[0m, in \u001b[0;36mBaseClient._make_api_call\u001b[0;34m(self, operation_name, api_params)\u001b[0m\n\u001b[1;32m    978\u001b[0m     error_code \u001b[38;5;241m=\u001b[39m parsed_response\u001b[38;5;241m.\u001b[39mget(\u001b[38;5;124m\"\u001b[39m\u001b[38;5;124mError\u001b[39m\u001b[38;5;124m\"\u001b[39m, {})\u001b[38;5;241m.\u001b[39mget(\u001b[38;5;124m\"\u001b[39m\u001b[38;5;124mCode\u001b[39m\u001b[38;5;124m\"\u001b[39m)\n\u001b[1;32m    979\u001b[0m     error_class \u001b[38;5;241m=\u001b[39m \u001b[38;5;28mself\u001b[39m\u001b[38;5;241m.\u001b[39mexceptions\u001b[38;5;241m.\u001b[39mfrom_code(error_code)\n\u001b[0;32m--> 980\u001b[0m     \u001b[38;5;28;01mraise\u001b[39;00m error_class(parsed_response, operation_name)\n\u001b[1;32m    981\u001b[0m \u001b[38;5;28;01melse\u001b[39;00m:\n\u001b[1;32m    982\u001b[0m     \u001b[38;5;28;01mreturn\u001b[39;00m parsed_response\n",
      "\u001b[0;31mClientError\u001b[0m: An error occurred (AccessDenied) when calling the CreateRole operation: User: arn:aws:sts::287758680514:assumed-role/AmazonSageMaker-ExecutionRole-20231027T004238/SageMaker is not authorized to perform: iam:CreateRole on resource: arn:aws:iam::287758680514:role/shakirachatbot-role because no identity-based policy allows the iam:CreateRole action"
     ]
    }
   ],
   "source": [
    "role = iam.create_role(RoleName='songChatbot-role', AssumeRolePolicyDocument=json.dumps(role_policy_document))['Role']\n",
    "print ('Created custom role shakirachatbot-role')\n",
    "wait(3)"
   ]
  },
  {
   "cell_type": "code",
   "execution_count": 4,
   "id": "f8474b10-b2da-48ac-9cab-e198d56b0afe",
   "metadata": {
    "tags": []
   },
   "outputs": [],
   "source": [
    "inline_policy = {\n",
    "    u'Version': u'2012-10-17',\n",
    "    u'Statement': [\n",
    "        {\n",
    "            u'Effect': u'Allow',\n",
    "            u'Action': [\n",
    "                u'polly:SynthesizeSpeech',\n",
    "                u's3:ListBucket',\n",
    "                u's3:PutObject',\n",
    "                u's3:PutObjectAcl',\n",
    "                u'logs:CreateLogGroup',\n",
    "                u'logs:CreateLogStream',\n",
    "                u'logs:PutLogEvents'\n",
    "            ],\n",
    "            u'Resource': u'*'\n",
    "        }\n",
    "    ]\n",
    "}\n"
   ]
  },
  {
   "cell_type": "code",
   "execution_count": 5,
   "id": "5a3bf9b7-ae3d-4c4d-a256-bb08a8cf840a",
   "metadata": {
    "tags": []
   },
   "outputs": [
    {
     "data": {
      "text/plain": [
       "{'Version': '2012-10-17',\n",
       " 'Statement': [{'Effect': 'Allow',\n",
       "   'Action': ['polly:SynthesizeSpeech',\n",
       "    's3:ListBucket',\n",
       "    's3:PutObject',\n",
       "    's3:PutObjectAcl',\n",
       "    'logs:CreateLogGroup',\n",
       "    'logs:CreateLogStream',\n",
       "    'logs:PutLogEvents'],\n",
       "   'Resource': '*'}]}"
      ]
     },
     "execution_count": 5,
     "metadata": {},
     "output_type": "execute_result"
    }
   ],
   "source": [
    "inline_policy"
   ]
  },
  {
   "cell_type": "code",
   "execution_count": 13,
   "id": "239a8f9a-f852-403f-9891-8639d29a4160",
   "metadata": {
    "tags": []
   },
   "outputs": [
    {
     "name": "stdout",
     "output_type": "stream",
     "text": [
      "Created inline policy for role shakirachatbot-role\n"
     ]
    }
   ],
   "source": [
    "iam.put_role_policy(RoleName='AmazonSageMaker-ExecutionRole-20231027T004238', PolicyName='BotAccess', PolicyDocument=json.dumps(inline_policy))\n",
    "print ('Created inline policy for role shakirachatbot-role')\n"
   ]
  },
  {
   "cell_type": "code",
   "execution_count": 6,
   "id": "6271ac75-a244-471c-ae0c-7d3a87c31a6a",
   "metadata": {
    "tags": []
   },
   "outputs": [],
   "source": [
    "lex = boto3.client('lex-models', region_name='us-east-1')\n",
    "lambd = boto3.client('lambda', region_name='us-east-1')\n",
    "iam = boto3.client('iam', region_name='us-east-1')"
   ]
  },
  {
   "cell_type": "code",
   "execution_count": 11,
   "id": "7b506a12-eefd-46c5-8486-5f064b585e9e",
   "metadata": {
    "tags": []
   },
   "outputs": [],
   "source": [
    "from zipfile import ZipFile\n",
    "\n",
    "with ZipFile('lambda-package.zip', 'w') as myzip:\n",
    "    myzip.write('chatbot/__init__.py')\n",
    "    myzip.write('chatbot/botcontrol.py')"
   ]
  },
  {
   "cell_type": "code",
   "execution_count": 6,
   "id": "ad9cafc0-deb7-4291-824c-0029f969cd97",
   "metadata": {
    "tags": []
   },
   "outputs": [],
   "source": [
    "# abc = open('lambda-package.zip').read().decode('utf-8')\n",
    "import zipfile\n",
    "\n",
    "file_content = \"\"\n",
    "# Open the ZIP file\n",
    "with zipfile.ZipFile('lambda-package.zip', 'r') as zip_ref:\n",
    "    # List all file names in the zip\n",
    "    for file_name in zip_ref.namelist():\n",
    "        # print(f'Reading file: {file_name}')\n",
    "        \n",
    "        # Read each file\n",
    "        with zip_ref.open(file_name) as file:\n",
    "            # If it's a text file, you need to know the correct encoding\n",
    "            # If you're not sure, you might have to try different encodings\n",
    "            file_content += file.read().decode('utf-8')  # or 'cp1252', 'iso-8859-1', etc.\n",
    "            # print(file_content)"
   ]
  },
  {
   "cell_type": "code",
   "execution_count": 10,
   "id": "8fc3abe4-9868-4f39-87a2-c186fca8dc3a",
   "metadata": {
    "tags": []
   },
   "outputs": [],
   "source": [
    "with open('./lambda-package.zip', 'rb') as f:\n",
    "    zip_file_content = f.read()"
   ]
  },
  {
   "cell_type": "code",
   "execution_count": 12,
   "id": "42f5d09e-a099-4b3f-8a6d-b73cb652947c",
   "metadata": {
    "tags": []
   },
   "outputs": [],
   "source": [
    "# zip_file_content"
   ]
  },
  {
   "cell_type": "code",
   "execution_count": 18,
   "id": "25d9349f-e83e-4b7c-8501-b3b07dee9782",
   "metadata": {
    "tags": []
   },
   "outputs": [],
   "source": [
    "import os\n",
    "FUNCTION_NAME = 'Song-Botcontrol'\n",
    "ACCOUNT_ID=287758680514\n",
    "ROLE_NAME = 'AmazonSageMaker-ExecutionRole-20231027T004238'\n",
    "botcontrol_function = {\n",
    "    u'Code': {u'ZipFile': zip_file_content},\n",
    "    u'Description': u'Function controling the Songs Chatbot, powered up by Lex',\n",
    "    u'FunctionName': u'{}'.format(FUNCTION_NAME),\n",
    "    u'Handler': u'chatbot/botcontrol.lambda_handler',\n",
    "    u'MemorySize': 128,\n",
    "    u'Role': 'arn:aws:iam::287758680514:role/basic-lambda-execute',\n",
    "    u'Runtime': u'python3.10',\n",
    "    u'Timeout': 10,\n",
    "    u'TracingConfig': {u'Mode': u'PassThrough'},\n",
    "    u'Publish': True,\n",
    "}"
   ]
  },
  {
   "cell_type": "code",
   "execution_count": 16,
   "id": "32ced55f-9e24-4ee0-b33f-1842dbefb14b",
   "metadata": {
    "tags": []
   },
   "outputs": [],
   "source": [
    "lambda_role =  u'arn:aws:iam::{}:role/{}'.format(ACCOUNT_ID,ROLE_NAME)"
   ]
  },
  {
   "cell_type": "code",
   "execution_count": 17,
   "id": "491d22c4-33a2-480b-a247-30e657485400",
   "metadata": {
    "tags": []
   },
   "outputs": [
    {
     "data": {
      "text/plain": [
       "'arn:aws:iam::287758680514:role/AmazonSageMaker-ExecutionRole-20231027T004238'"
      ]
     },
     "execution_count": 17,
     "metadata": {},
     "output_type": "execute_result"
    }
   ],
   "source": [
    "lambda_role"
   ]
  },
  {
   "cell_type": "code",
   "execution_count": 19,
   "id": "13d11a9f-15dd-4729-a12f-9c68614ad8ec",
   "metadata": {
    "tags": []
   },
   "outputs": [
    {
     "name": "stdout",
     "output_type": "stream",
     "text": [
      "Created lambda function Song-Botcontrol\n"
     ]
    }
   ],
   "source": [
    "lambd.create_function(**botcontrol_function)\n",
    "print ('Created lambda function {}'.format(FUNCTION_NAME))\n",
    "wait(3)"
   ]
  },
  {
   "cell_type": "code",
   "execution_count": null,
   "id": "8302659b-1a07-4abe-86e6-7343d7e3c987",
   "metadata": {},
   "outputs": [],
   "source": []
  }
 ],
 "metadata": {
  "kernelspec": {
   "display_name": "conda_pytorch_p310",
   "language": "python",
   "name": "conda_pytorch_p310"
  },
  "language_info": {
   "codemirror_mode": {
    "name": "ipython",
    "version": 3
   },
   "file_extension": ".py",
   "mimetype": "text/x-python",
   "name": "python",
   "nbconvert_exporter": "python",
   "pygments_lexer": "ipython3",
   "version": "3.10.13"
  }
 },
 "nbformat": 4,
 "nbformat_minor": 5
}
